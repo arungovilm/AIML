{
  "nbformat": 4,
  "nbformat_minor": 0,
  "metadata": {
    "accelerator": "GPU",
    "colab": {
      "name": "Face Detection Notebook_Nageswari.ipynb",
      "provenance": [],
      "collapsed_sections": [
    },
    "kernelspec": {
      "display_name": "Python 3",
      "language": "python",
      "name": "python3"
    },
    "language_info": {
      "codemirror_mode": {
        "name": "ipython",
        "version": 3
      },
      "file_extension": ".py",
      "mimetype": "text/x-python",
      "name": "python",
      "nbconvert_exporter": "python",
      "pygments_lexer": "ipython3",
      "version": "3.7.3"
    }
  },
  "cells": [
    {
      "cell_type": "markdown",
      "metadata": {
        "colab_type": "text",
        "id": "VvWl3ebqzCc1"
      },
      "source": [
        "# Instructions\n",
        "- Some parts of the code are already done for you\n",
        "- You need to execute all the cells\n",
        "- You need to add the code where ever you see `\"#### Add your code here ####\"`\n",
        "- Marks are mentioned along with the cells"
      ]
    },
    {
      "cell_type": "markdown",
      "metadata": {
        "colab_type": "text",
        "id": "NgR0j5310qqC"
      },
      "source": [
        "# Face detection\n",
        "Task is to predict the boundaries(mask) around the face in a given image."
      ]
    },
    {
      "cell_type": "markdown",
      "metadata": {
        "colab_type": "text",
        "id": "Aa0jyJzw091I"
      },
      "source": [
        "## Dataset\n",
        "Faces in images marked with bounding boxes. Have around 500 images with around 1100 faces manually tagged via bounding box."
      ]
    },
    {
      "cell_type": "markdown",
      "metadata": {
        "colab_type": "text",
        "id": "CjRTlPkp1LC2"
      },
      "source": [
        "### Mount Google drive if you are using google colab\n",
        "- We recommend using Google Colab as you can face memory issues and longer runtimes while running on local"
      ]
    },
    {
      "cell_type": "code",
      "metadata": {
        "colab_type": "code",
        "id": "sBWMoTJ9cf3Z",
        "outputId": "5b817e93-2774-4140-bdb2-576697399b26",
        "colab": {
          "base_uri": "https://localhost:8080/",
          "height": 34
        }
      },
      "source": [
        "from google.colab import drive\n",
        "drive.mount('/content/drive')"
      ],
      "execution_count": 1,
      "outputs": [
        {
          "output_type": "stream",
          "text": [
            "Drive already mounted at /content/drive; to attempt to forcibly remount, call drive.mount(\"/content/drive\", force_remount=True).\n"
          ],
          "name": "stdout"
        }
      ]
    },
    {
      "cell_type": "markdown",
      "metadata": {
        "colab_type": "text",
        "id": "sO9mgMmp13sI"
      },
      "source": [
        "### Change current working directory to project folder (1 mark)"
      ]
    },
    {
      "cell_type": "code",
      "metadata": {
        "colab_type": "code",
        "id": "TddMnf4D1-59",
        "colab": {}
      },
      "source": [
        "import os\n",
        "#### Add your code here ####\n",
        "os.chdir('/content/drive/My Drive/Project 2')"
      ],
      "execution_count": 0,
      "outputs": []
    },
    {
      "cell_type": "markdown",
      "metadata": {
        "colab_type": "text",
        "id": "3srplE-FEpKa"
      },
      "source": [
        "### Load the \"images.npy\" file (1 mark)\n",
        "- This file contains images with details of bounding boxes"
      ]
    },
    {
      "cell_type": "markdown",
      "metadata": {
        "id": "juE9wACYaJEA",
        "colab_type": "text"
      },
      "source": [
        ""
      ]
    },
    {
      "cell_type": "code",
      "metadata": {
        "colab_type": "code",
        "id": "MqFE_tZDf0sM",
        "colab": {}
      },
      "source": [
        "import numpy as np\n",
        "data = np.load('Images.npy',allow_pickle=True)"
      ],
      "execution_count": 0,
      "outputs": []
    },
    {
      "cell_type": "markdown",
      "metadata": {
        "colab_type": "text",
        "id": "_SMP8zliFT7R"
      },
      "source": [
        "### Check one sample from the loaded \"images.npy\" file  (1 mark)"
      ]
    },
    {
      "cell_type": "code",
      "metadata": {
        "colab_type": "code",
        "id": "NoqNvPK-iXqG",
        "outputId": "a2a1ea49-cdac-4a5c-eb9f-0eea22f96331",
        "colab": {
          "base_uri": "https://localhost:8080/",
          "height": 894
        }
      },
      "source": [
        "#### Add your code here ####\n",
        "\n",
        "print(data.shape)\n",
        "print(data[1])\n"
      ],
      "execution_count": 4,
      "outputs": [
        {
          "output_type": "stream",
          "text": [
            "(409, 2)\n",
            "[array([[[207, 216, 227, 255],\n",
            "        [206, 216, 227, 255],\n",
            "        [207, 216, 227, 255],\n",
            "        ...,\n",
            "        [ 35,  33,  34, 255],\n",
            "        [ 35,  33,  34, 255],\n",
            "        [ 35,  33,  34, 255]],\n",
            "\n",
            "       [[207, 216, 227, 255],\n",
            "        [207, 216, 227, 255],\n",
            "        [207, 216, 227, 255],\n",
            "        ...,\n",
            "        [ 35,  32,  33, 255],\n",
            "        [ 35,  33,  34, 255],\n",
            "        [ 35,  33,  34, 255]],\n",
            "\n",
            "       [[207, 216, 227, 255],\n",
            "        [207, 216, 227, 255],\n",
            "        [207, 215, 227, 255],\n",
            "        ...,\n",
            "        [ 35,  33,  33, 255],\n",
            "        [ 35,  33,  34, 255],\n",
            "        [ 35,  33,  34, 255]],\n",
            "\n",
            "       ...,\n",
            "\n",
            "       [[ 31,  21,  17, 255],\n",
            "        [ 31,  22,  18, 255],\n",
            "        [ 31,  22,  18, 255],\n",
            "        ...,\n",
            "        [  0,   1,   4, 255],\n",
            "        [  0,   1,   4, 255],\n",
            "        [  0,   1,   4, 255]],\n",
            "\n",
            "       [[ 31,  22,  18, 255],\n",
            "        [ 31,  22,  18, 255],\n",
            "        [ 31,  22,  18, 255],\n",
            "        ...,\n",
            "        [  0,   1,   4, 255],\n",
            "        [  0,   1,   4, 255],\n",
            "        [  0,   1,   4, 255]],\n",
            "\n",
            "       [[ 31,  22,  18, 255],\n",
            "        [ 30,  22,  17, 255],\n",
            "        [ 31,  22,  18, 255],\n",
            "        ...,\n",
            "        [  0,   1,   4, 255],\n",
            "        [  0,   1,   4, 255],\n",
            "        [  0,   1,   4, 255]]], dtype=uint8)\n",
            " list([{'label': ['Face'], 'notes': '', 'points': [{'x': 0.7053087757313109, 'y': 0.23260437375745527}, {'x': 0.7692307692307693, 'y': 0.36182902584493043}], 'imageWidth': 1280, 'imageHeight': 697}])]\n"
          ],
          "name": "stdout"
        }
      ]
    },
    {
      "cell_type": "markdown",
      "metadata": {
        "colab_type": "text",
        "id": "m94G4p3CE5Cj"
      },
      "source": [
        "### Set image dimensions   (1 mark)\n",
        "- Initialize image height, image width with value: 224 "
      ]
    },
    {
      "cell_type": "code",
      "metadata": {
        "colab_type": "code",
        "id": "kuZmtOASevDo",
        "colab": {}
      },
      "source": [
        "IMAGE_WIDTH = 224 #### Add your code here ####\n",
        "IMAGE_HEIGHT = 224 #### Add your code here ####\n",
        "\n"
      ],
      "execution_count": 0,
      "outputs": []
    },
    {
      "cell_type": "markdown",
      "metadata": {
        "colab_type": "text",
        "id": "wY6FEsCjG47s"
      },
      "source": [
        "### Create features and labels\n",
        "- Here feature is the image\n",
        "- The label is the mask\n",
        "- Images will be stored in \"X_train\" array\n",
        "- Masks will be stored in \"masks\" array"
      ]
    },
    {
      "cell_type": "code",
      "metadata": {
        "colab_type": "code",
        "id": "XjCT9EVTgAvr",
        "outputId": "4e066075-4add-48de-c9d5-adf1459cdd4b",
        "colab": {
          "base_uri": "https://localhost:8080/",
          "height": 62
        }
      },
      "source": [
        "import cv2\n",
        "from tensorflow.keras.applications.mobilenet import preprocess_input\n",
        "\n",
        "masks = np.zeros((int(data.shape[0]), IMAGE_HEIGHT, IMAGE_WIDTH))\n",
        "X_train = np.zeros((int(data.shape[0]), IMAGE_HEIGHT, IMAGE_WIDTH,3))\n",
        "for index in range(data.shape[0]):\n",
        "    img = data[index][0]\n",
        "    img = cv2.resize(img, dsize=(IMAGE_HEIGHT, IMAGE_WIDTH), interpolation=cv2.INTER_CUBIC)\n",
        "    try:\n",
        "      img = img[:, :, :3]\n",
        "    except:\n",
        "      continue\n",
        "    X_train[index] = preprocess_input(np.array(img, dtype=np.float32))\n",
        "    for i in data[index][1]:\n",
        "        x1 = int(i[\"points\"][0]['x'] * IMAGE_WIDTH)\n",
        "        x2 = int(i[\"points\"][1]['x'] * IMAGE_WIDTH)\n",
        "        y1 = int(i[\"points\"][0]['y'] * IMAGE_HEIGHT)\n",
        "        y2 = int(i[\"points\"][1]['y'] * IMAGE_HEIGHT)\n",
        "        masks[index][y1:y2, x1:x2] = 1\n",
        "        \n"
      ],
      "execution_count": 6,
      "outputs": [
        {
          "output_type": "display_data",
          "data": {
            "text/html": [
              "<p style=\"color: red;\">\n",
              "The default version of TensorFlow in Colab will soon switch to TensorFlow 2.x.<br>\n",
              "We recommend you <a href=\"https://www.tensorflow.org/guide/migrate\" target=\"_blank\">upgrade</a> now \n",
              "or ensure your notebook will continue to use TensorFlow 1.x via the <code>%tensorflow_version 1.x</code> magic:\n",
              "<a href=\"https://colab.research.google.com/notebooks/tensorflow_version.ipynb\" target=\"_blank\">more info</a>.</p>\n"
            ],
            "text/plain": [
              "<IPython.core.display.HTML object>"
            ]
          },
          "metadata": {
            "tags": []
          }
        }
      ]
    },
    {
      "cell_type": "markdown",
      "metadata": {
        "colab_type": "text",
        "id": "N3AYbP79bFtJ"
      },
      "source": [
        "### Print the shape of X_train and mask array  (1 mark)"
      ]
    },
    {
      "cell_type": "code",
      "metadata": {
        "colab_type": "code",
        "id": "3PIRaEdWIjDa",
        "outputId": "93aba4fe-bee2-4e34-cb1b-48cd8f1187aa",
        "colab": {
          "base_uri": "https://localhost:8080/",
          "height": 34
        }
      },
      "source": [
        "#### Add your code here ####\n",
        "print(X_train.shape)"
      ],
      "execution_count": 7,
      "outputs": [
        {
          "output_type": "stream",
          "text": [
            "(409, 224, 224, 3)\n"
          ],
          "name": "stdout"
        }
      ]
    },
    {
      "cell_type": "code",
      "metadata": {
        "colab_type": "code",
        "id": "Gw6uH5DxgI_r",
        "outputId": "27f3f13f-fa48-4e79-eb3e-c685fbf30c7f",
        "colab": {
          "base_uri": "https://localhost:8080/",
          "height": 34
        }
      },
      "source": [
        "#### Add your code here ####\n",
        "print(masks.shape)"
      ],
      "execution_count": 8,
      "outputs": [
        {
          "output_type": "stream",
          "text": [
            "(409, 224, 224)\n"
          ],
          "name": "stdout"
        }
      ]
    },
    {
      "cell_type": "markdown",
      "metadata": {
        "colab_type": "text",
        "id": "R4wgkWq1bk5F"
      },
      "source": [
        "### Print a sample image and image array"
      ]
    },
    {
      "cell_type": "code",
      "metadata": {
        "colab_type": "code",
        "id": "qfRZjQufj0N9",
        "outputId": "82645201-e4c8-4d64-f61e-222f9a3d1e15",
        "colab": {
          "base_uri": "https://localhost:8080/",
          "height": 538
        }
      },
      "source": [
        "from matplotlib import pyplot\n",
        "n = 10\n",
        "\n",
        "pyplot.imshow(X_train[n])\n",
        "pyplot.figure()\n",
        "\n",
        "pyplot.imshow(masks[n])\n",
        "pyplot.show()"
      ],
      "execution_count": 9,
      "outputs": [
        {
          "output_type": "stream",
          "text": [
            "Clipping input data to the valid range for imshow with RGB data ([0..1] for floats or [0..255] for integers).\n"
          ],
          "name": "stderr"
        },
        {
          "output_type": "display_data",
          "data": {
            "image/png": "iVBORw0KGgoAAAANSUhEUgAAAQEAAAD8CAYAAAB3lxGOAAAABHNCSVQICAgIfAhkiAAAAAlwSFlz\nAAALEgAACxIB0t1+/AAAADh0RVh0U29mdHdhcmUAbWF0cGxvdGxpYiB2ZXJzaW9uMy4xLjIsIGh0\ndHA6Ly9tYXRwbG90bGliLm9yZy8li6FKAAAgAElEQVR4nOy9fZxcZXnw/73vnJycnEwmk2EyGZZl\nWZZlWZYYYowRMcWAIVKkyos/KkrVWkt9fKtVa9HHah9rW37WKrW+/dCHWh9btfWF+lSKgooUgcYQ\nY4ghhBCWzWaZDMNkMpmcnJw9e87vj+sMuwm7Sci+Z+5vPiczc17vMzvnuq/7uq8XFccxBoOhedHT\n3QCDwTC9GCFgMDQ5RggYDE2OEQIGQ5NjhIDB0OQYIWAwNDmTJgSUUlcopR5TSu1USt08WdcxGAzj\nQ02Gn4BSag6wA7gc6Ad+CdwQx/G2Cb+YwWAYF5OlCawGdsZxvCuO4wD4FvC6SbqWwWAYB9YknfcM\nYPeIz/3Ay8baWSll3BYNhsmnHMfxkqNXTpYQOC5KqZuAm6br+gZDE/LUaCsnSwjsAc4c8bk1Wfcc\ncRzfBtwGRhMwGKaTybIJ/BI4Vyl1tlLKBt4A/GCSrmUwGMbBpGgCcRyHSql3Az8C5gC3x3H8m8m4\nlsFgGB+TMkX4ghthhgMGw1TwcBzHq45eaTwGDYYmxwgBg6HJMULAYGhyjBAwGJocIwQMhibHCAGD\nockxQsBgaHKMEDAYmhwjBAyGJscIAYOhyTFCwGBocowQMBiaHCMEDIYmxwgBw4zklQvhLGDRdDek\nCTBCwDAjWJq8NtJR9bTBlRdAZ/L5xdPQpmbhpIWAUupMpdTPlFLblFK/UUr9cbL+L5RSe5RSm5Pl\nyolrruFUZeVZ8lpPPm/4DVx75Sufy3pTHLHv8zJlGsbFeDILhcAH4jjepJRaCDyslLo72fbZOI4/\nPf7mGZqFbU/BK+bDwCG48kz4593wwH0/p5psf3rEvq1z4Jmh6WjlqclJawJxHD8dx/Gm5P0B4FEk\n1bjB8IJxgFv++jqufilcctFCblgAH/9viICFR+37KyMAJpQJsQkopdqRYdt/J6verZTaopS6XSm1\neCKuYTi1yS2ADQ88RFCHW/7tAF2tsj4NHDjOsWcDcye5facy4xYCSqkU8F3gfXEc14AvAecAKxAt\n7u/GOO4mpdRGpdTG8bbBMPvZeBC2b9xDtQi9gF+W9RVg/jGOmwtkgcHJbuApzLiEgFJqLiIA/jmO\n4+8BxHG8N47joTiOI+ArSEmy5xHH8W1xHK8aLfGhofk4DNz7JBRciIHtz8JioAXoBs5FevyjGUSE\nhuHkOWnDoFJKAf8beDSO48+MWH96HMcNO841wNbxNdHQLPQBWVse9h3ASqRqTR5InwntK+ZS9QbZ\n8BD84CDsT47rAbYBVcCYC14445kdeAXwe8AjSqnNybqPADcopVYgAr0X+KNxtdDQNLQDlQFRHYtA\nG9B1GhTaINuhyPd04ro2HR27WLnhAJ/6tYw3WxRsjI0AOFlOWgjEcXw/oEbZdOfJN8fQbCiktwCZ\nIfAPQ88caI/AsqGjE/LtkO1ox21tIZUKsXWBnKV5X3U/f/0UbIpFY3h82u5idjNtBUkNBoBr58Dm\nIXgi+dy+GHrawUpD3YOebkWuvY10VwdWoRVNlVQU4GNhXRaS3XyQd/7KGAbHgxEChillPnAIuAC4\nElhzLawuAi54tqLQs5JURyd2FKDrHkF7J9V8gTDXQjpfYMAr4Wd7sQtbCewyKwoH+VgJbt0DzyKO\nKmXE0Gg4MYwQMEwpGWA5sApY9Uqw0vO4as0K0vlu6toll28llU1jW5ogCLAzWXQqA24GbJsMPrW6\nQ6QtUm6GyPG46g0e9p0xn3r0qNLXhhPCCAHDlFIAuoDO8yDTCqnOHpx8F6RbaSl0YmeyOK4DKQcH\nxDBgO0Q4BEGEm/IIahnqkQ2OS6A1tpvmojX76XkU7kdsDHMxQ4QTxQgBw5RxBrAGWH4B9FwMVmEh\n7asuI9faBekOdKYdtIYoInTA0hYhGiIIsQg1WHho7eCHEQEWViaLHWlanZDXv/QgpV/CY8BP/+RC\nfuuzv+aas+H7T07vfc90jBAwTAlnA1cAa86DtmWAA1HKJdPZjc52gtUKOkukbYLQQ36aFkEUYWmb\nCA1WhA4qWHYaL5ThQr1WoaulHcfyueJKKPYf5MdPw82f/TUAOoDLl8Lde6fv3mc6Jp+AYdI5EzEC\ndilIpST8NLLBiwIiN0WkXXCzVH2LauhAKg86Q0gKW6fRkYsdOtihQ4iFZTloLQLC831qQY0Im1Qu\ny5pLxI34F8m162XoaDGpSY6FEQKGSWc54viTK0C+BdAQRhBoCCLQKRewiWwXnSinNhobjYVGR0AY\nYgchFhqI0Bq0joiiQTyvSjUICbFIp8XDsEF0GG7/1f6jm2QYgREChkllIWIHaJkPLe2QHSEErAiC\noA5EhKGHoy20BTqEMAiIgoDQD9AEWFEAyPsoCtE6wrUtLA1BfT+1wAPbJt+2mPzC4bRkd2MMhMfD\nCAHDpLEEuAromgvpLKQLgA0+EIWgowivVibyygRBHceKcIiwtIelA7QO0VYgA3vbB8snIiIIPHQU\n4DoaNxEaXljDo0Ym57Jq1RhRa4ZRMYZBw6SwABkG9CB2ACsLVgoqHkQRWBqsKMKrVSiX+3DcLFg+\nlrbQRCN+mRFRJIIgICAIfAKvThQEEAWJ1gCeNYQX1smnUhRaYdl8sA9JUJKPcSk+FkYTMEw4ZyC+\nAF1ACsCCVAF8DWVPBIAbQSoKCKp9+JV+wqBIRA1NCDokAqLkX4hPhEcYViAoEfpl0AGRXyPwwQrB\nDUAHHpalyRTE/pABcsCu6fsqZgVGEzBMKBcg8f9pxBhoIx8CB+qR2ALSFrgh2MFh6qVeapZDoNOk\nsi1gW0SRFiGgI7EH6IigXiYoD+B7vdQrfTjax9cRti1CgCrUvCE8t46bUXT2xGx5En42fV/FrMEI\nAcOE0oakCU8j3oEukMuCF0LoJaqnlvdBFer1CtW+nTh+mlSuC9uJsHCILJsoAscBW/vUKkXKpT6C\nah9BvYwVVgm9Go4NkQ+BD/UqZLP7aSks4eI1Pto/QH4TXHblAr5330H+z+5p/GJmMEYIGCaMc5Dp\nORsJC84jD70GCMEOZT/fl6nBMISwVsKrR3jsotK/E5waDg46nSWMIhwHXCukWhrAqwygwzKBV8ar\n9BFWD+ImNoHQAyIoDoDrVki5DpkcbNoH2//5IHeP2mIDGCFgmEByyDg8nSwpwJovD6lrARF4njyw\nIRIWoL06luOAXyEKy9ihTRjZUPOJNHi+JrB8Ar8MQQ3tV6BeJvQqOBHYUWOmQWYJKkVwrSE62iJC\nLQLpnun7SmYF4xYCSqleJCHsEBDGcbxKKZUFvo0ki+kFro/jeN94r2WY2TQ0gAwiANLICt8Dxwci\niGqiCVguuBosPUQ6pYlSkLZ8HDckCsAnItKaKIqI/AAdejhRlaA+AF6ZlE6ESCBCRkdAAF4dvAzU\n/ENkC7BmKRT2wpqXw6cehKem7+uZsUyUJnBpHMflEZ9vBn4Sx/EtSqmbk89/NkHXMsxQ6kANqRXg\nJuv8OnhAqBMPwTrYFrgpSDtg2wptQWCF4JUIsQEXy0kRRRbadgj8Oo72CcI6fq2EqwNc16JWHMQB\nUjaEDhCCdsGxwLUVYQ4uuSImvRFK/dA/PV/LjGeyhgOvA9Ym7/8JuBcjBE55PEQIBMniAcEgRFWI\nLLAdSIVgOZBNycOrNTiOxsMn9MpEkQ2Ri02IdlwgQocBOgrQkY8fekRhHe1EOFqMggApC7QNtSjR\nCixNFEFXj0Nr/iD33AWp3cPJSQ3DTISfQAz8WCn1sFLqpmTd0hEZh4sM15t8DlN34NSjmizBiCUC\n+YXUQNchpWVpePpF9Rjt1yH00H4N/BoEdUK/hhUFWFGErTUpG1wrIuVEuFYy9BjZhYVgJ+d1bPEx\n0LZNLQiwMwvo6pJCGIbnMxGawJo4jvcopfLA3Uqp7SM3xnEcK6Xiow+K4/g24DaA0bYbZh97gQEk\nvZeD2ARsxEZgIT20hRjyokCGCkEFtLM/CQ22CO0ITZq0beGQIQoDLA1RGMo5dEQQDEGYGAQBKzE6\nWpb4DESheCWm83kqQY1ScR/pNFx7Pmx7VIST0QiGGbcmEMfxnuS1BHwfcdveq5Q6HaQOAVAa73UM\ns4N+xEOvD/mj1wF7DmScpJe2kim9AOo1MRpWq1At76Naq8pSrUMokYJhFBEGEb7nEwYBRCFBIMfV\nfZ4LRrIjsALxF4giCIIY3/fJ5PNoR2FbcOUVC1mJEQBHMy5NQCm1ANBxHB9I3q8HPgH8AHgLcEvy\n+u/jbahhdvAMIgBA/AQyQDQE1f2Qmi82ABugAm5ahgRZW2wGjmsRRh6BhnRQRldCXCdNFNUJav3o\nSj927TCpZKyRSjQKO4JSANk0hFWwq+AEUCuWyLakaM1nKNX3UawcoDZN38tMZryawFLgfqXUr4EN\nwA/jOL4LefgvV0o9DqxLPhuahH7EQOghqneNxF5wCLyqPLg6AEIZNtjJMMEKfawoxA588GtYoY8d\n1NBeHR36RL5HtQTlAQgS56AolPPYiYZBCEEgwiXwY/y6R8p2n/NROPoH/6dvetOUfS8zFRXH0z8c\nNzaBU4/TkACiNcmrhRQXbdgH7OS19VywMxA54GTFfyAIgZREHVaToUPOlp5fR/KQex4Ui1KbIJ+X\nUGUb8HwZHrQvE+3ATzwKXVuGEN/4DmzfB5/77ofJtq5iycuum54vaHp4eLTan8Zj0DApPIsMC4pA\nB/JDKyavGYZnDoIKhL4IgXoN7JS4E9tp8S0ILRnj1yMRDn5VjtMOtOahXJaYgdCHfFYMg2Eo67Ql\nQ4RSSYYelTKUq1Ics3fXTpZf9zfT8+XMMIwQMEwaRWRo4CFqf4jE9uvkM8jY3Q+gnjgT2c6wEIi0\nVCKyLHmvIwlB9hO1P7KhJQf9ZQhricOQJef3Et+EQEPKge3bRIiUYmnD9q2bTYGSBCMEDJPGEFIt\neBUyXdiarNfIDy8EigfkvQ9SLCB52LUn9UbSNnhB0ttLkgERDg5UK9Caga4WqFREeDSmDMNE8lQG\noL0DNpZhR69UO64DleLAVH4VMxqTVMQwqewFtiPaQDsiDJJpfepIjEHXWbDqQli+HLraIJ+WfVI2\n5DIyrejVRPWv1mTYEAaSo7CaOKunXenxbVtiChxbjIVRAMU+uGo95PLix5AhaYABMJqAYQroQ4yC\neYaNgiC9f9vp4LhQrUOpKqq+ZYmWMNCfDA1S0NYG5ZL0+L4vqr5lyTjfssB1IJ2Sc3qRpDTzPGjN\nwf0bJK3ZVVfOpXPZIBs3w+fuPjg9X8YMxAgBw6RTRnrgLEm6MaQ31kClmkQC2hJUpAPp+euhOANV\n6zIkaGmRIUA9EQCVOlQ9yGaBZMYAxJhoJQ5EYQRhHVpb4D/ugpZdg+BAXx+YkNZhjBAwTDoNz8GI\nYS0gA+QU9B8StT5MVIQkZogoTDSCSHp/15XPbR3icDTQL8OD3qfkcy4nQsJKiTCpebK/rWWYsXUn\n9A7AXc/CI9P0PcxUjBAwTDqDDDsPNX5wfUBrLFOF+jAEh4GDEO2DihIrvp4n+9oZSLky1++4IiCy\nrZDJShKRWlF8AEJbwpOTIELwYKAMGx+Ai7sg0weff3bsdv7uda/k29/9+aR9DzMVIwQMU0J41PsI\nGSbsZNhIWEPyEGTjRGOIoL0NCh3Q2QGRB6U+GQ6kbREO+TxUSlAPoFaDwIJ8I0YhhGoJtj0JxRKQ\nkRyIj43RxvXr1xshYDBMFg3/AEiSjCC+AjuTbS7ygLYChdMhSuoUdKyAdH4OjqsJ7UFcT4KEbJ1M\nMwbS+2ciqAXiO1CvQ7EiGY21J3aIbQfBPQhXzYPLUrDl2eF6hQ0Gepsz7YgRAoYpoVEERCMPvIfM\nGOQQj8JWILsIcp3g5IE82FnItC0lcjS+XycKB0nlpIePQhkeVKtiA7AAJxTDYKkkMwmpCMKyXLcf\nsU04h6F2WGIZjmbz5s1T8E3MPIwQMEwJA4jKH5LkHiTx9WdYKKR9MQKmU4n7rw9O6BP4kEqlKHsH\nKCZ+AVGSrdh1Er+AxLhoOZDyIZMBqyZZjXMMOyQ9eIw2fvc/j7X11MUIAcOUoBEbQA350TUe/Ib7\nsA/4hyXvALbMCuSyYKdcytUa23ufpn+XOApZSTxBkMwgtLZBzhUPw5on7sNuWsqSp7QIgfSIaxmO\nxAgBw5RwCHnQG0bBhjre6KGjxrZQPP88YNt2iPqfppxEEloWZAtiDHRSIihqXhJV6MrJ7LQcHxRl\naEBEkrrUuMeOhREChilhMTIdWEY8Bwsk6ccWQumACIIa4JSg34edFXDzcMWNC+jJZggtjQ5DKoFP\nNp8nnUmD7VL3PGp1n4rnoUOfMKji1w9KaHIaooHhgKXUWI1DQp+PMXt4SnPSQkApdR5SW6BBB/Ax\nxA/kD5EkMwAfieP4zpNuoWFWsxApS9YFtJAECgEtCtI5qGoIDwwnJnUscDJw1UWJYdBJU6kHuG4K\nx7FpKXSgXZfIcdG2jeOAk9PkHJt6rYpX7iWq9GK1HJA4g+R6WY79Yx/NUNgsnLQQiOP4MZIErkqp\nOcAeJMfg7wOfjeP40xPSQsOs5gDSExcQlb+CWOp1DO4zkJ4/nIEoB7QUINsNdUsMg9VyFZ3J4top\nLMfB0zYWNlEAYRgRoEllMlhpF9dxcV0t04SVR7Crcr0QCV7aMUYb5yPDlfcsUvzD/ubLbzNRw6RX\nAU/EcWwKvBieR8Nl2EKmAluRntlFko8mM4K0LJA6Av4AeCUx7IWeJqxpSn01itv6CXb0Y5UqhKUK\nfdu2sWPLRurFfsJ6hBU4WHaeyMkRWvNx8+JF6CPqaesY7WsYDG+8ev2kfg8zlYmyCbwB+OaIz+9W\nSr0Z2Ah8wJQgM0RADzJmbAPSS8DukDLlpSL090PfQaglqYrDPPgOVLcfpBYdxA8hqouxr9D2OG4B\nfClZSK2/SKG9Qq6lhVTawfJsCvk26tXHqPpia+hE8hqMRuPHecc//WjSv4eZyLhzDCqlbGQa+II4\njvcqpZYi9p8Y+Evg9DiO3zbKcTcBjWIlLxlXIwwzjkUMhw23AMuRsWMOMdClgNRc6GmXab+de+G+\nZN8KMkTYhZSuqo84V4j06G1AfgFUDspQIjMXOruhpQ2W9yyhMw2O9wzf+Bv5MfYA7gK4tLkjiCct\nx+BvA5viON4L0HgFUEp9BfiP0Q4yxUdOfTQyA1BD3IM7GI4ZcAE9CM7jsp8PbEG8+noRQ919SE9y\nNHuA/wYWHRx2PCoPQuERaHsErtj4DBd1wdrlkF0o2YtCZIpxCcMWa4MwEULgBkYMBZRSp48oQXYN\nktfR0IQ0HlCNCIJisi4gSTWO9PwZRDj0I+7F2zixAiH7j9rvyWTx9kJ1LxQiKORh+4HhfdoxQuBo\nJqL4yOXAH41Y/Sml1ApEiPcetc3QJBz9gII87MuRXr+X4bTj3cjwYAMSdjxefpks+hfwzpeD80Ti\nnhzCxck2wzDjEgJxHB9E/CxGrvu9cbXIcMryc+RBdxg2xr0OEQIZZLgwVpjvyfAt4O2B2BAiJPqw\ngNgrRgqopUguxGbFeFIappRDHJna66dIL10FLpngaz0J3PtwErQ0B6pD8oO3j9rvRiTR8fwJvv5s\nwQgBw7RyALEVlJHx+kRzHyJk0KINRPC8eoQtiBZy8SRcfzZghIBh2rkX6a0vmwfqJM8xVi++lSR2\nwJZpxPRR289HhMC1ydKMGCFgmHZ2Ij/ElSvhqpM8hwu8ZpT1fcm50ym4aDW0nsYRlYdcZCjSQVKP\noAkxQsAw7TyGCILNwNqTPMezwA+Bs45a34U4H0VpsHKStfj0Edv7kSFCHrj/JK892zFCwDDtnIM4\nCaGh67Tj7Hwcjg5e6URmBAbKUozEso+cEtuL+C20MHaA0amOEQKGaeeDwDsvhM7uhaxe8/ze/GRQ\nwO8AlwErXw79+5IkpJ4EL42kDuSXGk3AYJg20gugeyVku9pIZxXXT8A5u5FYhfw5kG0Da56kJKvW\nZPy/aMS+AWDnaNoqxUYIGKad/oNSMZiURb0ec9k4hgT/D3ApsBq46EzoXC0P+CXrk5JnkRgA3w38\nQXKMB/jHSjt0imOEgGHaCRmey6950JI/ufNcDnzkdxbztrPg6vNg+RrIdcyDlCKXT+oUHEoiERW8\n/9LFgNgCqk2caM8IAcO0EwG2A6TTVKtgB/DnJ3GeL95wJivWLGP5alh+CeS65xGlNJbrEAI6lLgF\nC/Bj6FneyaWI70DZP+apT2maWP4ZZgoWoB2IwkgqCftw44Ww49dHJrEci/OQrDa5gqa/dys6JWnH\ny0GAZVlYEXgVqFdF4LiI6/D2Db/k878l2YvrqdPg4eZMNWqEgGHasZF6A54fEQTQmZXx+4fOgLdb\ncPtTEgzUDqwDHgA+BCw/G3wX0m1Qi6DmP0VgQUvPUjzLInIc7LCGrnjUyoNQkmFHimQ68EFoPwMy\nOeirVKbp7qcfIwQM005EUm3Itom0WPAzLmRSsHIF9JSg898lV10I3DYXaoOw40noegl09Syk5B2g\nUoPAgaxj4aYyBFGEFWq01hBAcf9wxaMy8DWgZw/c831YeUHz5rUxNgHDtKMBfwdYdoBvyYOuHfC0\nFBnNdszhjZfDa5Fe622DMte/4kyIAvjXOw5w331gu5DKz6Ee+UShh+3X0Z5HvXgAq56UOkPOX0W0\ngX9CphPbU4un5+ZnACckBJRStyulSkqprSPWZZVSdyulHk9eFyfrlVLqc0qpnUqpLUqplZPVeMOp\ngQ14NcD3SVvgaJnT9zzRCvxgiO6LzuDGGxZwBbASmeKzXdi5Q8qUd7RCe+tisqk0LjZBuUpQrlEv\nHyCqQ7FfHnwnWULEP2AO8LbrzqK32Ly5cE9UE/gacMVR624GfhLH8bnAT5LPIDkHz02Wm4Avjb+Z\nhlMZC0kvjueTtmUuHw128r7uAVGNVMGi+yXw3rPFy+/Hj0GhACt6oL1VypVnXZcMFlTr6IpHVAUr\nAH+/PPSNqsgk7/8CuOM/nmJrEyfLPyEhEMfxfUgcxkheh2hTJK9Xj1j/9Vh4CMgopU7HYBjByJBh\nDXiHIKrUsCJR8QNfwn8jZGovCA9AOqDn2jPI98Cnz5CEJLYDXhmy6TlQ99ERhP1ldHGQsH+QoB+q\nO5MgIoZzGzYqEmWBNx6Gf5ni+59JjMcmsHREQtEikqUJ4Axg94j9+pN1BgMAL+XILMJJ3VACzwOS\nAqM+aA1BDep12e57h6hW9tC2Yi7LL4YrF0DvLujqgHppiMg7hL9zD6Xth6jvgup2CIvQt1UClNJI\nMJGLzBDsB96F5DUc+YNtNibEMBhL8YIXZF5VSt2klNqolNo4EW0wzA4uR2oAjCRAxuhEmiAAS2qN\nYluiBaQsUfW9AAaqUPYGaVk2h56VkGuBO78jD3ZYBbsGUQnqOyAcgKAEA4eGZwWyiAAYmMqbnuGM\nRwjsbaj5yWspWb8HOHPEfq3JuiOI4/i2OI5XjVYMwXDqkkam50ZSRfz5gyBEp6WyUJQYB1NuMqav\nSdlyrwblMnjBEHZGhIWOYNd2qBVh58akilENgn3gl8R+0DAEOnPltTTi+udOxY3PYMYjBH4AvCV5\n/xbg30esf3MyS3ARsH/EsMHQxLwK6Y37jlrfqC5kpTMUOhaic2BnIAxg+2aoDoDly7EZR4YLEdDV\nDbkC2Cno2wab74V7H4N/eQY2HRJhUx+UH3kXogXYGbEL+MArgDcBj0/N7c9YTnSK8JvAg8B5Sql+\npdQfALcAlyulHkccuW5Jdr8TqSC1E/gK8M4Jb7VhVnAacCGSH+AVSDbhiCN7YRAtwAPsTJZsVw9W\nDrQtvXdpL/zLL+Ghn4JrzyOfgbQLXh2c9DzSGUkdZmvwBkWYuMix/YgWkAWWLYL20yGwZDigkWnG\no7WSZuSEPAbjOL5hjE2vGmXfGLG3GJqc1Yj63w4sQx7I7cnrSFwSw2AUYeXzhC6EdZkdaFsMG/bB\nrU/CytJh0i2KiBgvAs87jJsBNwVuGrIW2PvF+FdDeqIUUv8wk5ekIuUyuHMglaQfb84SpEdiPAYN\nk0YFUb27kAKijeCdo390jbLhVq0MboWQxCjoQKEL1i+Ah4Ad9wG+Q9qdi20nY/yUaA1WBlJ50QTS\nSO8WIBqGBiJX9qvWwHNFU/ji5H8FswITO2CYNP4beRCXIQ9jyPB0YIMlSG9tAXqgSFi2sQNIa9k5\nlYP8JXDxf8JHdsO/9h9C5+R8kYaCK4IAxIBYWCSOQY1pwDSQWSJ5CuoV2HgIOueJltDM04IjMZqA\nYVL5FRL4U2PYZXdk6H5DAAD4/UNUtj+JrskY30FegyrcfJo4Bz1wDzjBHCxf3It9X4RAEIlQSKWl\nEnGG4TLo2RYo16FSk2sH4fOrEDUzRggYJp0i0vP6DHvqNWio7TZglSHcCXYZ/DKJoQDSWWhJwXrg\nqwcgqAyRtRVeRYSAmwE/Ai+E0AIrNTzjoBU4GREQOJJVWFtJJiMDYISAYQqoIzMCfciDOTKdn0aE\ngIU4+tgl0DVR3b2KeAwGFZkNeDOiVdz7f8EJHbQv54tsMQ56IdQDeQ1Ucq0cWC6iVliQUbKv+eEP\nY2wChkmnF/mhZYCjPcMaxUhDoF5KnISqUNZQ8SCoQ70mMwUrT4PwWTHoLd9xiPYV86iFh/E8GRIM\n9IMOxN0YG1KHIVMQIWFZ4nzU2gq+Brs5kwiNihEChknHR9x0G1b7cMS23cA3kn1W7Jew4DCAOw/I\nPP9GRFO44jBc78Angd8HdmyDbOth7DTUI3E1tlJgRTJEwJGMQdnCsFCwHLEdBL754Y/EfBeGSecg\n8pC3I/aB/Udt/yGSMuxaoOUZ8TL75lH7FIH3LoMVvcAe+OJ+6C5B3h2ONkxnIUwMidoRAWC7UAvF\nGOg64IRQrMrowCAYIWCYEoYQ77yxSn3tQ8qIZ5He/2hSQK7zDEJd4TV7DnE/UClCviBj/MiRBz+T\nhWJNhhXaFhfjmieRiJlIBNm0eTAAACAASURBVAGD5oc/EmMfMUwZjVmCsXgc8S0YGmXb9QDZLIWe\ndt63VAyNWx+DnTsBT9R8O0kjrB1IpeQ1DMWmMDAAtZqcy5l75JCk2TFCwDBlVJPlZLjpTa/A9wJI\npVl3/QVchdgZdm5PUpH5EkMQBpDNQDot2kC9Ltv8IfA9mW1wtPnhj8R8F4YpI+b59oDjMRd4D1Ap\n/gJf7wB3F7VwB7dcnhgUtSQWKeTE7lByoZwFPw21shgB7brMTKChGMmU4dHxC82MEQKGGc1bgdWL\n4K6fQLE/hsgh9CLa2uZJ1uADMu6ve5KT0AIcS6YEQYQAifehTpwSwlBmHAyCEQKGGcu5SAzA8m4x\nGm64H4o7B8ikc7jpLOsRHwTbhVJRDISZjAgD25L8gxpxPdYk3oke1A4c6brc7BghYDgmS4A/maZr\nDyDGRCuQWYXb98FXvz1E34696MDijS+RSEU/hGJRjslmpcePNDjOsGZgA4RiGyhifvgjMTMlhmOi\nkSm7ecDhKbzuIsR+sBX4xq/E5bgf6fl3/gjevH03F69ZwPKHD1KuirNQtQbpXCIEEvN/vSYpylLz\noH5YbAF9GD+BkRxXII5ReORvlVLbk+Ii31dKZZL17UqpQ0qpzcny5clsvGHyCRCL/lQKABg2IO4A\n7mK4fPlTwPeAe56CavUg7edCsQL5ViiVJDjISUnhEstOBEIgnoQ2SRQhR4YzNzsnohV9jecXHrkb\nWBbH8XLk7/ThEdueiON4RbK8Y2KaaZgu9iHZgKaShcD5yftBpPcfZDid9QHgy8Bdd0FrC7S1D/f+\ngZ/UKtBiHAyT6UM36fobQi0/ZXcz8zmuEBit8Egcxz+O47jhb/EQkhjGcIoyOIXXeh2S++9jwJ8C\n1wErEMEwkn3AJ4egfwC6V8hDry2oVOR9KpMEDZHMHCRCwEc8F7un6H5mAxNhE3gbR5aRP1sp9Ssk\nj8RH4zj+r9EOUkrdhJQpMxie418+fh3F++6gLZ3j4l0ldjwS07EIIj2XnfsGuQX4ebLvE8BAEVbb\nMivgV6FWh1xOZghqdcCWuIFaTewBFcS20LYACWowjE8IKKX+JzJc++dk1dNAWxzHzyqlXgLcoZS6\nII7j2tHHxnF8G3Bbcp7mrQtteI45iNqezrjcdedethyGzcCa/bCcQbrOnMPbdw8xwHCa8HQKimVo\nLYhTUBSJJuC6UAnAD5LMw4eH8xpsB3qMAHiOkxYCSqm3AlcBr0oyDBPH8WESG1Icxw8rpZ5A8kya\nKkOG4zIEfPJj36Xdhk8dlmjCQ8C/IbMTq3cPcTPwdQWfi2UM2tMtdQk6k0ym6bQ8+ClbbAGeJ4Kh\ngox9a8jwZqxApmbkpISAUuoK4EPAK+M49kasXwJU4jgeUkp1IP4ex4oZMRiO4M8HGdUIcRj4r2T5\ncCzVb9NAiy1ZiOxI4eoYxxXnoGp12D5AOGwL6EWKZp5sDMOpyIlMEY5WeOTziK3m7qOmAi8Btiil\nNgPfAd4Rx/HR1YwNhnHxN4g78SeBb/xIxv/VaoybEo9Ax4b+Xgg9cCKIhuSh3wo8ghgFP/auP5i2\n9s80VKLJT28jjE3glGYOo4cHnyhLkF6/4eCTRdTLRoHLPwZe/2K46JIF9PUfJAzAK4L2oboDvMMS\nbLQTCVX+vfnwmU0PsuT8l4+jVbOSh0er/Wk8Bg2TzskIgMXAlcAH3/QiCrk0jhVB4BF4IbalcTVs\nuu8RPvMbmaPO/wqWL/fxytC7E1qzIjSCw8PuxzuTc+e7zyHd2saLX3Quv3qk2SsRGhdqwwzj1cBn\n58Lm3z2LL77rQno6U+RaI5y8h9sakW9z8YMB6rUdrFo9n/efI8fdD/RtGUL7kqW4WhJhAGIU7AOe\nRcplr3/jW6lH8L4PfXA6bnHGYTQBw4zgdOC9wFtfczb5nEY7yIDeDoAQy4qIgjreQD8b79tHLgPd\nHbCsG9qfkLn/akl6Nf9Q4h7sg6VgIB6uM7AbyHd146TTZAqFabnXmYYRAoZpZwHil946F2w/olaq\noC2Nb5fRRZtaVKdaOUS1Hzb8Ro656GyoONCSlZmC24Cf7pGahz5QOSSxAhs40n5wOrD8kkso+xHF\noqlJDEYINDXnL4HSM6ImTycHgX8E7h+EjT95Ch8xBEYMGwO95HMFWJ5sD6oQ2rD8TCjshk3J/oVk\n/wqSxXhk7MNH/vCPCC2LMAj5+le/NgV3N/MxswNNypPf/1+0r1kD1SrvvPp6vvSb8djvJ5+zEK+z\ni4EeYNV50uNbEfQ9DvciPgAtSCqxKqIBfPeo8ww++jiVjEZnWlkyf95UNX+mMOrsgDEMNiGXAr1b\nv0bf1s9T5yE+dvtf8KbzZ/YD8RRi3GsFOgCnAq4HoS/WfytZGq7BO4Fto5xHZ/Ok7RQ6MEOBBkYI\nNBkKUZe33fskd371+zxw17+Stj2+9p3b+ZtrXjTdzTsujZwAu56B7bth52556EsMBwiVEU3g0aOO\n/fDv/h5+EBCGIbXa88JZmhYzHGgyzkHqAa5aDGEGUl2Q7ZrHZa9/B4WWHmrViGUv/R/snu6GjsIi\n4J1AJxIUVEHyAzSyDg0k7+s83zdhIdD360ex8nki7XPrbZ/j43/+/05Z22cIow4HjBBoMuYg5cDW\nABcB+kyoZMFZBjd98D1Y2R4st4VP/fXtfPiz/z6tbR2Nc4DViJGwjGgGAcP1Dp8c47gnv/9vtK9d\nT2hBGEXMX7R4Sto7wzA2AYP0kL1IjzkA2LshX4WoD3Y88AOqfRvALvOOd147re0ciyeQkNTNSCRg\nkl+UiGFfgNFoX3sxNb9KZGlJRWx4DiMEmpAh5AH6afIaPQXuDrj/q0+x7f47qO26D4cBvv1Xr5ve\nho7BAPLAZ5GpwjTyQx4rMvC60+dBUMfNugShz21fNqkvR2JEYhMxB7GsP444z4gvnsTYF/ZCzoPN\nd+wjnbuHbGuJ1iz84cvn85UHD01pOxcj4/4MMmSxEGv/TmTarxFMlEeGAyEyHBgtGeoZwDs/8kGw\nNBHgBx5//Cd/Oun3MJswQqCJCJ/+GdQi3nfVtfz94/t5huGsu63AygOiEYS9eyCdpTXTzkc/+Da+\nct0XpqR9CngDsAzp5WtIdGA6M5eB/kG2Py5aQERScgyxCzRmA0bjpmteSldPF4EO6C/1oklN/o3M\nMsxwoEl416XzqZc2Ug/KvOMTH3tu/bPIA+QhtgJvH6Q8sHwPSwds3bppytq4Fpm5aEsWkPLj1fIg\ntg35hdC1CJYvhMsWSvKKNNKTjZa04nygFgY4mTS245DPFdi+bapzJ898TrbuwF8opfaMqC9w5Yht\nH1ZK7VRKPaaUevVkNdxw4vyv8yEfHiKsbiFVsGhf3XXE9seQXjUiSck9APWaR6k0wD33PMilZ05+\nGxuuShGiBXQsFvfgWgW27YCdu0C7kkG4/wD4PrTMkSFBhGQfPpr202D58hVksllqfpVKpcjnP3fr\n5N/MLONk6w4AfHZEfYE7AZRSPYhGd0FyzBeVUnMmqrGGF85vA3c8Cr3b4Ktf/j/49TJB5PPoP3/2\niP22Iqp2CSj2Q6VSo69YYv0VL2ftupdOejsjhi3+A8DAPqlD2HsYdhyG6iEI9XAa8b5B2JE4A4ym\nBcwHUino7u7GKuQACMOQH/7w56Ps3dycVN2BY/A64FtxHB+O4/hJxJazehztM4yD30bU/DrQ9Sy0\nboW+n36ZVLiNziuW87cfGLb+H0Yq/dQBayN0VG1WdPdwxTs/yhtvev+kt1UDOUQYbUWGJtuQAKAi\nYh/Y8jTct1cERR0RFluRbEFH4wDLlr2EtlVrCT0X28/wjdv+ddLvYzYyHpvAu5MyZLcrpRqeF2fA\nEc5m/cm656GUukkptVEpZTIRTxJ3IdV8NRJhV+yDXTt24NVLUCvxwVs+ccT+MYnX3WGILI2VzhBp\ni3R7+6S39TBim+hFHv4S0vM0YgL6kqWMGAUbAUJjZbF1gc7OVlKug+/Xwbb4+F99doy9m5uTFQJf\nQpy3ViC1Bv7uhZ4gjuPb4jheNZoHk2F8nK3gF194E5/8HXmwH0NU7XA/hN5Btmy4B8vvI6ru4rt/\n9ZYjjv1psm/g+3i1OqG2sbJZ/uTPf3fS2/0M8mO6t9FeJCrQQgTDLkRIlJL3m4FfjXGuFJBtzZNK\npXGdFB/64Icmte2zmZMSAnEc743jeCiO4wj4CsMq/x4kg1ODVobzORimgOsuhA0//gAXX9LOR279\nMA/+fy/iz84Xa/sPgEo/9G55jO0P3EFY62fdja/lPS8fdqGNERX8oXsOUtnVR1Su4GjN+9/33im7\nh0GkpNV9yIO+Ebgnaf+dyfId4JfHOMe6Vy1m5coV9BdLYNv8wz9++xh7NzcnW3fg9DiOn04+XoMM\nzUD+Tv+ilPoMIsTPRZK7GKaIFSm47xt/RyqnqFmwdt06brm9B69UZ8NPH+DHd+4jn4Ot/oNku1dg\ndWT4xO2f4YHzf5+Hk3M8CnzrUbh5Z5Hqho2kwyy5tDvl9/KTMdbvH2N9g0VA97JlpAoFrNZ2li9f\nOcEtO7U42boDn1JKPaKU2oKEp/8JQBzHvwH+FdHe7gLeFcfxzM5WcQpxBuBtlSXaFRPuitlxz91Q\n8XC7u7j4vW9n6+OSjnugF/q2biSTBTIR7/+j84841xbA27ofNm/F3TWA0+/zstPmT8NdvXAKcyFX\naEE7LvVand88+fTxD2piTBThKcLpyHj6LcBFCyDfIsYzJwWtPZB7/atpWb+Wj/R8mPpT0PNSuGj9\nYlbc+DZ0poV0BdQFHzjinNcguQda5oPb9RI+8OuHn3fdmciFC+GLt/8ly1atZdHZvzXdzZlJmLoD\npypzEQEAMgvAQeh+XNS8CBjYCVn3HtauWMbnvvEu3nbFF9i6HVJ6H4XOe2lftw5ybfzdpYv5wM+G\n3W6+33hzCJglAgDg6qtfSkfHMlasvmS6mzIrMG7DpwAjS/c9AnwdGZM9hIzLth2A3nuGqG3YhtXS\nzVv/4pU8dAD6N8HOex6muPkBqls38fb33njC15yprqBnAOvWXcEnbvkMTz5jFMwTwQiBU5AYmTrb\niDjW+IDdB87OIsVqQPf613LxmVAbhN4NsGvTQ/T272JXcTtvOu/4538NcMvlL5vMWzhpepZCFMCX\n/u2/jrnfe95lIgkbGCFwCrMb8abbAFSHINi8hV3FPjLdy7n5c/+D7cB9j4PbN0i08wHCymZe/9pR\nfbuOIAR6f/rffOX4u04ZS5PXls6zeeUf/uVx97/xzW+Y3AbNIowQaAKeQObVt9w7BKHPxk1bab1o\nHR/70iuxAXsrFKqHyYbPsKIzd8xznY8YknIWXLVm5kiBFectZBHwT78YK8HYMK95zaupVk224QZG\nCDQJTwFffAa6Uy2UN20jHdqsXX81l5wtNft2bYdSCbZu3XLM89SRSEMCsOr+FLT8+FzzWy9jw2MH\njus/0OBb3/oWd95556S2aTZhhEAT8SDgVgJa6gGUqtBbZmUn1CtQKUHvdti88djGtEYloDCG4rbp\nrl0krLti/aihxKPxl3/5ccrlMnfdddektmk2YaYIT2Hm8PzU2z+49Wt0dffw0K5vUKvs5HN3wzrA\nrcKuCvRcuZhLi/v42RhadWPasQJUj695Twldnd0nvO973/tePM/jsccem8QWzS6MEDiFGc1V83d/\nsYdX/2IPjdDNZ4HLEIt6rgBXX38T2bUWP7vhr0Y9p4UIgV5k1mEm8L077jjhfT/60Y/xmc98ehJb\nM/sww4FZzMtP8rgfIQ9/Q5m/F3A0dHYsQLf2sGbdepaePnpZsojh0N4ywxmBpov/+cd/zJe++W8n\nvP8//MMXqFbHykjYnBghMIupT9B5NgJhAK0t7VAHy3H54ue+OOq+QXLdxrWnW5V03Rce2HTPPfdM\nQktmLyZ2YJbyFsSv/9OMrva/UBYBD/3+OeTWXom1fBk628Gisy4fdd/TkMrAWUSLOFGrvGHaMbED\npxI+YtBrA77K2Mk1TpT9wG3/+ARvyG8inXVwg7H3rSGzBI2sP4bZjfkbzlLqSKy2RgpwTAR3Afan\nf0Hr/b2U0ukx9xtEBEELksFnZkwUGk4WMxyYpSxCJPhEPIALgIMv8JilQDeSRPKJCWiDYUo4uYKk\nY9Qd+PaImgO9SqnNyfp2pdShEdtM0bdJYj8nJwDOGmXdQeDFiGA5UfYi+QqMKjn7OZG/4deAzyMR\nqgDEcfxc1kml1N9xpG3oiTiOV0xUAw3P5xzgo0iK7j4k/973j3mEcBrSew9wZPgxwHbgG6fP5bqn\nj94yNo3S4IbZzXGFQBzH9yml2kfbppRSwPWIv4lhiqggKtxlr4KwsIBVZZ+HfjTE8ZJoZZBU3Ct4\nfpLOQ0ChNc/Ln97DgyfYjj1Mv5+AYfyM10/gt4C9cRw/PmLd2UqpXymlfq6UMrmdJoF9SFTgnT8B\n3ztIS36I157Acf3AlcAbx9h+/y/3cPN1L8wFabRKwIbZxXiFwA3AN0d8fhpoi+P4xcD7kczDo5qZ\nTfGR8REh6nhfLwQ1KTl+4XGOOQysfQXceM2cUb0NbwNaCpmJbahhxnPSQkApZQHXIiniAUjKjz2b\nvH8YMRx3jXa8KT5y8sxHHHVCoFqCwIOu06Wk9/EIgFTWoWWUbU8AN3/hP/n7G2Zm1iDD5DAe4+46\nYHscx/2NFUqpJUAljuMhpVQHUndgrEpRhpPEQYSADUQRBFUoZKFwApm1az5oWxOOsX0LcGtPKyMr\n/L0EmD1pRp/P0tMXsmr1KlK2y/Lly3Esiw98+PjZh5qF4wqBpO7AWiCnlOoHPh7H8f9Gqg9/86jd\nLwE+oZQaRDTWd8RxfKLFTA0niIsIAg+J/vNq4Npi+DseFQ9wxrbp+0Bxy/2ch5QvAznvGcyOUlJn\nLFnI2ivWsW79elZffBGtLQUcy8b3fWxt4bgOlWLJCIERnMjswA1jrH/rKOu+C3x3/M0yHAudLD7y\nn6UhnYK2ebD0sMzhj0WxAnYmwzKe5d9H2Z4F7vrOXm790wu48W9/w7PM3Ciz9/zhNaRSDlu3bOH/\n/uQ3fOUf/oqrX38t6VwWy7LxQx/HcvB9DwgJwhAntNi40RTFGonx9ZiF5Bn+w4URhBqCFLRkYNVe\n+OExjr1/L7wtlaHzHEZ19asAroYruuBtSH255YiL8D9N6F28cBYjMyMXLIXXv/6lfP4L33/OYeo1\nFy7k7W9/rYRDlndS8+v4nk9NR9i2gx1qtO3Qu6vCbV/+2DTexczDCIFZSIgY+DJAeEiGA9k8OK70\n5HN5vjNQgwcAtEsuy6hCIA1YQxB4dRzgKuAzydIH/GyC7+WF4MwHDkFb60Ju+cIvn5ueXALc+vlb\nqPXvpL+/SBiGbNm+lVKpRBRZpCyXdDpFS0s7Fb/O1i3G0XkkRgjMQkJkKKCRQKKoBPkC2LZ4EXYw\nPJ4/mseA4o4+WlpAITUKGixGyki7c8GrVkkvgHUd8PlHpLLRtYjgORHvxMng6UPy+p8PH3hu3YVL\n4Dvf+jh9fTu59957KFcrPPDQA9z1i8HnBOFcpD5he/scVq1azWO7p7zpMxojBGYhPsNJPQKAw6IN\n2I6o7ccSAgC33/4Ub3/zXC5mkF8gXn8FJEdAG9DVCSERV18P7/9H+CRwHTJLMNrU4nRxzUvgta+9\nlFtvvZXe4n62bIHdo3gvDQK7B2H340PUayfqD9k8GCEwC6kki4/0zBEQ1EFbMmswdhCw8K3DcLPr\nsDoRAgVEcHQhocEt3eAU0rRl0vSwhwrwImSacG3y/pHJuLEXSF8vfP3rP2PTEyee2KT3WFbTJmWm\nGn4Nx6CR1MNnONln4EMYiu9AFnEoGotHgEqpTgGJHEwjD38WESpOC/i2hc5Y9JwrAUfvT85ZAjon\n46ZOgr5n4WcvQAAAZOZMWnNmLUYIzEKGGM7z55PUAfAgiORhziM9+7HYsiEmj9gQcogtoAUonA1O\nYQGkUgSWZtXFIiSuerWEk96FRBzOBJ45iWMyx1OTmhAjBGYppWTxEbtAEAARpBZJb96O1B0Yi/uf\nkGNbETtAG7DsxbBsLWTa2ogsh3rdoz0xAnz9R7D6RfDu5JjZyJlAV/cLyZrQHBghMEspJ0tjWGBZ\nMjuQckStb+XYavtA8uog2oMLZNsh36rQlk0UOliBhRtB2xxYOQ9uf0S0D2/S7mryuGAxXHbpIro6\nZ8pgZuZgDIOzlFqy1BF13bHBssFxIDsHMkMyLCjBqCW6ishUo8ew34F2Qdvgez46cvErHl4J2jLi\nllx5WoRH/yjnm8ksAlasOoMVyzuwHTMeOBojBGYpjUy/DZsAgA7lQbbzkHtahgQBI0OBhikizj+M\nOIe2IETjRnW071Ep7qNeAcuBrXtEu9iEFDedCSxE7i9ENJlGdaQo+ewuADsF7e1LuWTda+nqbKNc\nqnBsn8rmwwiBWUqQLFVEGwhDiEJEv89AawX04eFAox0cmQCkhpQSC5EZBRc53qsN4dX3EPpQ3AJW\nCYp7JIVZJTnPdKOAi5aI1qMjeejtJKAi1CLM7NQCsvkW2ru76erqZu1l68nnW9i+efNJJVY9lTFC\nYJYSIz25RoYD9UNIrQAHbBcKrZDuF0HQSAjaCDpqfB653lIyw+D1S7hxWINqP0T9MgR4CBkGnGj1\n38lgDuLTYAEXrzmXMAyxbbGHaEK0dgi1xnayuNk8hZY22rt6aO/ooqWtA21pbDdFZg4cnIiKLacI\nRgjMYvYgPXgNebgrdbAtWZlKgy5A7imZ+vMRraBRUThEDIKNiEQdg1+ByAY8EQJBGfyhYQ1gOlOJ\nzQda50JrqwRNtbd34jguni8TpdrSRFqD5ZDJtpDJt9DW3klrew+pdFrGNGiwLVIZTLGEERghMMsp\nIrMEFSCqgOuCkxLbgBtBawD1p+VBd5JjAmSI0BAgDiIUSv1iXPQ88CpQP5ikMGP6BMAcZLaj6yxo\nKSgsJ00uV2D1mksIwgivXieMAiIrQls2bipLobWdXKEFN53FTeUQPcGW/x2XVHoBPDuxA4LTGLZN\nFDkyJmOmcyJJRc5E0o0vRe7ttjiO/14plUVSi7Ujw8vr4zjel2Qg/nskp6UHvDWO402T03wDDP8R\ngyHp3e1kSOA4kmcgAMKnhzUBkFmDhhHNIrERPDEsKMqI+j8AbJuqG0mYi8xs2POgvR1yOejqOo9s\noYVq2SeMoGfFKqpVT3p/QrDAtm3SmTx2Ko3lZggCnxAXS1sQhYShxnbS5Ap5ePLJCWnrPMQvo+Fx\nWUC+t/GWhZtKTkQTCIEPxHG8SSm1EHhYKXU38FbgJ3Ec36KUuhm4Gfgz4LeRtGLnAi8DvpS8GiaB\nxixB42F2U5DJikZgBfLabkkeQjuAgUPDWkFjWKAZ1gw0YivoQ3IJDHDsYKSJZgmQnQ+dnZDKQFvb\nmWRyBXp6luOk0tTrId/73n8QWTYtbS0EUQQ6IiTEclwcxyHCJgxBW2nQFiGaMBKXGMe2yeXzwPiF\nwHzkO3cQoeUiufe3IkJ1ZMDyHCamcOxkcCKZhZ5GsggTx/EBpdSjSLap1yHxJCD5Ju5FhMDrgK/H\nUt/sIaVURil1enIewwTTcB0G+WPagE4G+hEQaNmQSsnOwaFkJoAkAjGhUWC0YTjsRZJDTuV04BIg\nvwDyeWjvWEo6naa1o5NsrkC+rQs3lcG2HH587wNoO4V2U9hYRBosQrRtgXaIIvkCtLYIIwutNVqD\n1hGWpWnJ5yekvWmGa0HaiDBoRQRnAflOy8j33cbMCLoajRdkE0iKkLwYmXpeOuLBLiLDBRABMTJi\nuz9ZZ4TAJDCIPLQ+yR8zBL+RbCCQnj4KZFjgecN5CEKSXATIjzdAfrAh8vBPpQCYizxQ+fnQ2QGF\nwlJa2zrI5gq0dXSRzuUptLZjuxlSNlz/+jeSyuRAu2htE2kZ9f//7Z1rjCRVFYC/c/dSNE3vbDu2\nTW87DMM4bCYDbnAhuBGyGk1UiAkYo9EfQowJMcFEf5gI8gf/iYmYmBgTjCZqiI9EjcSo8RETYozL\nS1gWcOXhhofuIqzL7jiMTXGvP869U7VDN9sz00NVM/VNOl1dVT1zam7dU+eee865GIvDYIwBFzWh\nAYPuS8Hg6HZGowQcWcitJYvezB9/mWw690Lg4ZH85dEytBIQkQZaP/Dz3vsTOvRXvPd+rYuKisj1\nwPVr+U5Ff55DzU8L4EIykQW3rNWIk2VNnEmP6U0ai5JEJRDLjj4VftdTvH7xADuA9jZoNmF6Gi7e\nfQmdTpepuQXa3Q7t6Rl18DXbpIml7pbYu+89YMNTnkTH/PRCpzQ4Z3DGYggWAOBQK6BRrzM11RmJ\n7A79X4Z5B1W4vDrDMw2vbjg2Gm/E6BhKCYjIGagCuMN7/7Ow+2g080VkJ3r/gM5cnZv7+hR9CtV6\n729H17uoViXeIM+TxfRP9DSAprekSsA6SE6AqcHioloNMcou+gSiP2AZHQYcZnB5so3ypm1w/JUs\nfbm9HbodmGxvY9fcAgvzC3S7U3Rn52m2WjTaHQ37q09gMaRLJ6jVrQZGGXDG6NPfacCUNWblCe0I\nQyP0g3Mpxjgm6vWRXEucVYlEJRBnX5Zy++MszImR/OXRMsyqxAJ8B3jUe39b7tCdwHVh+zpYKV57\nJ3CtKHuBFyt/wOYygd58i4BZhOR5aByH+nHgeKi9+Qwsv5TdoE+hN2TMBTiMPv2fAk72+yMjot1Q\nJ9rUWVDfBq0mdNpn0Zrs0p6aozkzRzI9Q6/ZwTWnSOuTmEYLXA2okTTmOLbcxCVNXPD8G9dTqz+x\nuOAp1dGAw8Se6YLCc+BqtdeQcHiiU7VJpkwT9H88TZZt6YMIBylneMIwlsDlwCeBh+IS5MCXgK8A\nPxGRT6PDx4+FY79CpwcfR/8vnxqpxBWvYhZ9qgIsLwE1HQYsh+EADo69oKba31FlEfQD+UUh1lKc\nY710uztIeJHEqLNy4lU5OwAACUxJREFUauYspqanaXWmmNs1z+zsHI1mi2SiTb3RwJoEwjg/dbCU\nnmB5cRHXaBJvX2Ms7hQ352CsSWg2J0d2PTHYKk695ocALnfeEuW0AmC42YE/oeHa/Xhfn/M9cMMG\n5aoYkvPR+ek4xv/nS1B7VsOAez7zXh9B5/sPoJ1/ic0z+V+Li+Z3c6LzJDW7iLWOmdl5pqdnaXVm\nmN+9h8nONEnSwNSbGuiQxitQbeZCzzI2Ov9ejVnpmqdijfoK2q3ROAbDxMuKP6BHZmGtXuHppZH8\nxc2hihgcY85DTetYGyCmBdcB67Nsui6qBH7E5pr6w7D74r0sHmtj7XHqDUN318VctPsykvoErclZ\nTDKp+cwWwIbHrME5B86SJMukLlVnoLFhnA92QMePesIZsKZGyhLdmVneeclO9t+3sVFqVAJRRVmy\nFO34eRwYFzkr+hCrCtVRs/44WUZgK3dOTLMtWgEA7FrYzeLxCdL0CI5lZuYWmGh1sMkkLqnrE9QZ\nrEkwOHXuOQPOYlyKMRZr9bZ1zmWOvwEYQzZrEH5qjQn27dvH/vt+/NpfPg0pWQeKFkHe8Tpovcey\nUSmBMWYRdej1y+w7B3VOTaDWgutzThHMzO3i2DGDNW0Sa+nMXER9oolN6jgmINXqKMZEt5vOAOQv\nwJzS8/Mj8sGYcJ61NWCZd13xLvj6xpTAUbKQ6/jk75ENweqMxxqOlRIYY/7L4Lz4o2RrEkafQRno\nTE8z2U5w6RLGGmqNFrbWAJdgjNWoPwBs6NrhaW+1cECwDcL7AKI3FMibCqlzGGPoLad02qOJFYgd\nvBFe0T0ZhwmNfl8qGZUS2ALcT3kaOpmYxNYcxvTAWHrUwNVXxvaRNIbimOwpHib7V1kCAwg6IPoE\nemFfYqxuj7C6ZgyQib8y5mDE1+qVnspGWe6Nik2kVCvvWQM9TegxSR3jkjBwNzin8f0AKT3sKdE+\neiwNloFzbk392ADWqgsvSWo0J0ZXa/BldEhgwnvMzUhQv0CZFQBUSqDidWTHjh3q5a/VsYSqpjHG\nH3LB+LqR4rIb1LiclW9y5w6PI4VUnYu1+mgLjp5EO9MxVAkskQVwlZ1KCbyBEOAy9AkUFyb9DeVJ\nWpmbm8OYhOVlRy1E7RmrPdtYqwoiUNOsn9y343RggjGaLpUNC+JMffyYfTeekeBI3TJY6KUOWx+N\nTyDPf8hyM2IZ93Eoz14pgTcQse7gFNnNVxaHIEC32yVNU4wxYXovzP+vYe7COUjT9BSFsRbi9yYa\nm+Oye4lsPYgG5Y0SzFMtPjKGvAM4e8CxfwH3kBW2KFMDt1oter1ervOvh/VPdpqV2XyzEmuwGbyA\nBnAdodyRgpEy3SMVOb78xZsGHkuBzwC3ohVc3o1GD0bOQIcE/6RcDdxoNEhTNdujKT+Moz+Pcw5r\nk3V0Yi0yErfXr4SG4xWKrcy8Fsp0j1TkOHjggYHHloBfolNT7wc+jtZ6+wRauOJDwBVodtss8KbN\nFXVokkQ776kd2ITKP8PdiqoEhj9/NYZkpdLQKPnoRy4f7S98HamUQEm5/+4/DzwW/dr3A3eF90Wy\nhUYeCfsOoz6BsgSstFot6iGXv18n7t+xs9kDEyIHNzacUEVQS2qcvX1QXtzaOfDk33j7hWVRt2uj\ncgyWlCdeGJzY20SLOx4hG3vGwiCrq9a8ORwrQ8BKq9UiTVNsmAkwsRjiUM+iWB+oH8MqhPxCZSnd\nbpfHDo0mqPfQX8tYKWA4KkughJzu+dRDMwOvOVtN/xZqBQyaCWgBC6MTb91MT0+v+ATWy6Dk4bX+\nltSlzM/Pb0iWNwqVJVBCPHDJuedw39NH+x53wN+A2n9hejvUT2r22gl0eipGCO5E8wYM2XoCRdLO\nVfld75h+NOhwotNpnf7ULUBlCZSUXbvm+u7fgVoCcTmxZ06qJu8IzJ4Be9AMwh1k1WxiOGvRNBqN\nDY/nM9Z76+r3rDVMjDB0eJypLIGSMugGjcUt4xoBsTxY4iF5WZ/87w37nidLbikDUQlsBEdKkmgl\nP+eil/+1lEr/YKSYo1ABotXAChZC5N9oVuzzRcuyAVqMt/ww/tcw7vLD5l7Ded77t6zeWQolACAi\n93rvLy1ajvUy7vLD+F/DuMsPxVxD5ROoqNjiVEqgomKLUyYlcHvRAmyQcZcfxv8axl1+KOAaSuMT\nqKioKIYyWQIVFRUFULgSEJEPisghEXlcRG4sWp5hEZHDIvKQiDwgIveGfZMi8jsReSy8lyqjRES+\nKyLPicjB3L6+Moe1JL8R2uWAiOwpTvIVWfvJf4uIPBva4QERuSp37KYg/yER+UAxUmeIyLki8kcR\neUREHhaRz4X9xbaB976wF7ANjXKdRVPgHwQWipRpDbIfBlqr9n0VuDFs3wjcWrScq+TbhwYVHjyd\nzOh6kr9GUxn2AvtLKv8twBf6nLsQ7qcz0dXangC2FSz/TmBP2N6OLg25UHQbFG0JXAY87r1/0nvf\nQ1fKurpgmTbC1cD3wvb3gGsKlOVVeO/v4tQ1SGGwzFcD3/fKX4BmWIK+MAbIP4irgR957//nvf8H\nukDuZZsm3BB47//lvb8/bJ8EHkXXJym0DYpWAm8Fns59fibsGwc88FsRuU9Erg/7zvHZMuxH0DD+\nsjNI5nFqm88Gc/m7uSFYqeUXkRm0Utx+Cm6DopXAOHOF934PcCVwg4jsyx/0as+N1dTLOMoMfAt4\nG3AxWmLxa8WKc3pEpAH8FPi89/6U3K4i2qBoJfAscG7u8xTlX7oNAO/9s+H9OeDnqKl5NJpr4b1M\n+TuDGCTzWLSN9/6o9/4V770Dvk1m8pdSfhE5A1UAd3jvfxZ2F9oGRSuBe4ALROR8EUnQcnl3FizT\naRGRs0Vke9xGS/0dRGW/Lpx2HfCLYiRcE4NkvhO4Nnio9wIv5kzW0rBqjPxhtB1A5f+4iJwpIucD\nFwB3v97y5RERAb4DPOq9vy13qNg2KNJbmvOA/h313t5ctDxDyjyLep4fRNf2uDnsfzPwB+Ax4PfA\nZNGyrpL7h6jJ/DI6vvz0IJlRj/Q3Q7s8BFxaUvl/EOQ7EDrNztz5Nwf5DwFXlkD+K1BT/wDwQHhd\nVXQbVBGDFRVbnKKHAxUVFQVTKYGKii1OpQQqKrY4lRKoqNjiVEqgomKLUymBiootTqUEKiq2OJUS\nqKjY4vwf9SqBOXVrdosAAAAASUVORK5CYII=\n",
            "text/plain": [
              "<Figure size 432x288 with 1 Axes>"
            ]
          },
          "metadata": {
            "tags": []
          }
        },
        {
          "output_type": "display_data",
          "data": {
            "image/png": "iVBORw0KGgoAAAANSUhEUgAAAQEAAAD8CAYAAAB3lxGOAAAABHNCSVQICAgIfAhkiAAAAAlwSFlz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\nqP2HHwAAAABJRU5ErkJggg==\n",
            "text/plain": [
              "<Figure size 432x288 with 1 Axes>"
            ]
          },
          "metadata": {
            "tags": []
          }
        }
      ]
    },
    {
      "cell_type": "markdown",
      "metadata": {
        "id": "e2gzj-587GhC",
        "colab_type": "text"
      },
      "source": [
        ""
      ]
    },
    {
      "cell_type": "markdown",
      "metadata": {
        "colab_type": "text",
        "id": "Z0Qa1UOue9TE"
      },
      "source": [
        "## Create the model (10 marks)\n",
        "- Add MobileNet as model with below parameter values\n",
        "  - input_shape: IMAGE_HEIGHT, IMAGE_WIDTH, 3\n",
        "  - include_top: False\n",
        "  - alpha: 1.0\n",
        "  - weights: \"imagenet\"\n",
        "- Add UNET architecture layers\n",
        "  - This is the trickiest part of the project, you need to research and implement it correctly"
      ]
    },
    {
      "cell_type": "code",
      "metadata": {
        "colab_type": "code",
        "id": "BTVYOvANrUVx",
        "colab": {}
      },
      "source": [
        "from tensorflow.keras.applications.mobilenet import MobileNet\n",
        "from tensorflow.keras.layers import Concatenate, UpSampling2D, Conv2D, Reshape\n",
        "from tensorflow.keras.models import Model\n",
        "\n",
        "def create_model(trainable=True):\n",
        "    \n",
        "    model = MobileNet(input_shape=(IMAGE_HEIGHT, IMAGE_WIDTH, 3),include_top=False, alpha=1.0, weights='imagenet')\n",
        "    #### Add your code here ####\n",
        "    for layer in model.layers:\n",
        "        layer.trainable = trainable\n",
        "\n",
        "    #Adding U-Net Layers\n",
        "    block0 = model.get_layer(index=0).output\n",
        "    block1 = model.get_layer(\"conv_dw_1_relu\").output\n",
        "    block2 = model.get_layer(\"conv_dw_3_relu\").output\n",
        "    block3 = model.get_layer(\"conv_pw_5_relu\").output\n",
        "    block4 = model.get_layer(\"conv_pw_11_relu\").output\n",
        "    block5 = model.get_layer(\"conv_pw_13_relu\").output\n",
        "   \n",
        "    x = Concatenate()([UpSampling2D()(block5), block4])\n",
        "    x = Concatenate()([UpSampling2D()(x), block3])\n",
        "    x = Concatenate()([UpSampling2D()(x), block2])\n",
        "    x = Concatenate()([UpSampling2D()(x), block1])\n",
        "    x = Concatenate()([UpSampling2D()(x), block0])\n",
        "\n",
        "    #Adding this for converting the output to 2d.\n",
        "    x = Conv2D(filters=1,kernel_size=1, activation=\"sigmoid\")(x)\n",
        "    x = Reshape((IMAGE_HEIGHT, IMAGE_WIDTH))(x) #Reshaping for coordinates\n",
        "\n",
        "    return Model(inputs=model.input, outputs=x)"
      ],
      "execution_count": 0,
      "outputs": []
    },
    {
      "cell_type": "markdown",
      "metadata": {
        "id": "0wWlJ5xsuADN",
        "colab_type": "text"
      },
      "source": [
        "\n",
        "    \n",
        "\n",
        "\n",
        "\n",
        "    "
      ]
    },
    {
      "cell_type": "markdown",
      "metadata": {
        "colab_type": "text",
        "id": "_snZ9o0ZBAiv"
      },
      "source": [
        "### Call the create_model function"
      ]
    },
    {
      "cell_type": "code",
      "metadata": {
        "colab_type": "code",
        "id": "9TfSSP51uPoO",
        "outputId": "699aa0be-630b-4246-9a2d-ac2f1fea5eee",
        "colab": {
          "base_uri": "https://localhost:8080/",
          "height": 1000
        }
      },
      "source": [
        "# Give trainable=False as argument, if you want to freeze lower layers for fast training (but low accuracy)\n",
        "model = create_model(False)\n",
        "\n",
        "# Print summary\n",
        "model.summary()"
      ],
      "execution_count": 11,
      "outputs": [
        {
          "output_type": "stream",
          "text": [
            "WARNING:tensorflow:From /usr/local/lib/python3.6/dist-packages/tensorflow_core/python/ops/resource_variable_ops.py:1630: calling BaseResourceVariable.__init__ (from tensorflow.python.ops.resource_variable_ops) with constraint is deprecated and will be removed in a future version.\n",
            "Instructions for updating:\n",
            "If using Keras pass *_constraint arguments to layers.\n",
            "Model: \"model\"\n",
            "__________________________________________________________________________________________________\n",
            "Layer (type)                    Output Shape         Param #     Connected to                     \n",
            "==================================================================================================\n",
            "input_1 (InputLayer)            [(None, 224, 224, 3) 0                                            \n",
            "__________________________________________________________________________________________________\n",
            "conv1_pad (ZeroPadding2D)       (None, 225, 225, 3)  0           input_1[0][0]                    \n",
            "__________________________________________________________________________________________________\n",
            "conv1 (Conv2D)                  (None, 112, 112, 32) 864         conv1_pad[0][0]                  \n",
            "__________________________________________________________________________________________________\n",
            "conv1_bn (BatchNormalization)   (None, 112, 112, 32) 128         conv1[0][0]                      \n",
            "__________________________________________________________________________________________________\n",
            "conv1_relu (ReLU)               (None, 112, 112, 32) 0           conv1_bn[0][0]                   \n",
            "__________________________________________________________________________________________________\n",
            "conv_dw_1 (DepthwiseConv2D)     (None, 112, 112, 32) 288         conv1_relu[0][0]                 \n",
            "__________________________________________________________________________________________________\n",
            "conv_dw_1_bn (BatchNormalizatio (None, 112, 112, 32) 128         conv_dw_1[0][0]                  \n",
            "__________________________________________________________________________________________________\n",
            "conv_dw_1_relu (ReLU)           (None, 112, 112, 32) 0           conv_dw_1_bn[0][0]               \n",
            "__________________________________________________________________________________________________\n",
            "conv_pw_1 (Conv2D)              (None, 112, 112, 64) 2048        conv_dw_1_relu[0][0]             \n",
            "__________________________________________________________________________________________________\n",
            "conv_pw_1_bn (BatchNormalizatio (None, 112, 112, 64) 256         conv_pw_1[0][0]                  \n",
            "__________________________________________________________________________________________________\n",
            "conv_pw_1_relu (ReLU)           (None, 112, 112, 64) 0           conv_pw_1_bn[0][0]               \n",
            "__________________________________________________________________________________________________\n",
            "conv_pad_2 (ZeroPadding2D)      (None, 113, 113, 64) 0           conv_pw_1_relu[0][0]             \n",
            "__________________________________________________________________________________________________\n",
            "conv_dw_2 (DepthwiseConv2D)     (None, 56, 56, 64)   576         conv_pad_2[0][0]                 \n",
            "__________________________________________________________________________________________________\n",
            "conv_dw_2_bn (BatchNormalizatio (None, 56, 56, 64)   256         conv_dw_2[0][0]                  \n",
            "__________________________________________________________________________________________________\n",
            "conv_dw_2_relu (ReLU)           (None, 56, 56, 64)   0           conv_dw_2_bn[0][0]               \n",
            "__________________________________________________________________________________________________\n",
            "conv_pw_2 (Conv2D)              (None, 56, 56, 128)  8192        conv_dw_2_relu[0][0]             \n",
            "__________________________________________________________________________________________________\n",
            "conv_pw_2_bn (BatchNormalizatio (None, 56, 56, 128)  512         conv_pw_2[0][0]                  \n",
            "__________________________________________________________________________________________________\n",
            "conv_pw_2_relu (ReLU)           (None, 56, 56, 128)  0           conv_pw_2_bn[0][0]               \n",
            "__________________________________________________________________________________________________\n",
            "conv_dw_3 (DepthwiseConv2D)     (None, 56, 56, 128)  1152        conv_pw_2_relu[0][0]             \n",
            "__________________________________________________________________________________________________\n",
            "conv_dw_3_bn (BatchNormalizatio (None, 56, 56, 128)  512         conv_dw_3[0][0]                  \n",
            "__________________________________________________________________________________________________\n",
            "conv_dw_3_relu (ReLU)           (None, 56, 56, 128)  0           conv_dw_3_bn[0][0]               \n",
            "__________________________________________________________________________________________________\n",
            "conv_pw_3 (Conv2D)              (None, 56, 56, 128)  16384       conv_dw_3_relu[0][0]             \n",
            "__________________________________________________________________________________________________\n",
            "conv_pw_3_bn (BatchNormalizatio (None, 56, 56, 128)  512         conv_pw_3[0][0]                  \n",
            "__________________________________________________________________________________________________\n",
            "conv_pw_3_relu (ReLU)           (None, 56, 56, 128)  0           conv_pw_3_bn[0][0]               \n",
            "__________________________________________________________________________________________________\n",
            "conv_pad_4 (ZeroPadding2D)      (None, 57, 57, 128)  0           conv_pw_3_relu[0][0]             \n",
            "__________________________________________________________________________________________________\n",
            "conv_dw_4 (DepthwiseConv2D)     (None, 28, 28, 128)  1152        conv_pad_4[0][0]                 \n",
            "__________________________________________________________________________________________________\n",
            "conv_dw_4_bn (BatchNormalizatio (None, 28, 28, 128)  512         conv_dw_4[0][0]                  \n",
            "__________________________________________________________________________________________________\n",
            "conv_dw_4_relu (ReLU)           (None, 28, 28, 128)  0           conv_dw_4_bn[0][0]               \n",
            "__________________________________________________________________________________________________\n",
            "conv_pw_4 (Conv2D)              (None, 28, 28, 256)  32768       conv_dw_4_relu[0][0]             \n",
            "__________________________________________________________________________________________________\n",
            "conv_pw_4_bn (BatchNormalizatio (None, 28, 28, 256)  1024        conv_pw_4[0][0]                  \n",
            "__________________________________________________________________________________________________\n",
            "conv_pw_4_relu (ReLU)           (None, 28, 28, 256)  0           conv_pw_4_bn[0][0]               \n",
            "__________________________________________________________________________________________________\n",
            "conv_dw_5 (DepthwiseConv2D)     (None, 28, 28, 256)  2304        conv_pw_4_relu[0][0]             \n",
            "__________________________________________________________________________________________________\n",
            "conv_dw_5_bn (BatchNormalizatio (None, 28, 28, 256)  1024        conv_dw_5[0][0]                  \n",
            "__________________________________________________________________________________________________\n",
            "conv_dw_5_relu (ReLU)           (None, 28, 28, 256)  0           conv_dw_5_bn[0][0]               \n",
            "__________________________________________________________________________________________________\n",
            "conv_pw_5 (Conv2D)              (None, 28, 28, 256)  65536       conv_dw_5_relu[0][0]             \n",
            "__________________________________________________________________________________________________\n",
            "conv_pw_5_bn (BatchNormalizatio (None, 28, 28, 256)  1024        conv_pw_5[0][0]                  \n",
            "__________________________________________________________________________________________________\n",
            "conv_pw_5_relu (ReLU)           (None, 28, 28, 256)  0           conv_pw_5_bn[0][0]               \n",
            "__________________________________________________________________________________________________\n",
            "conv_pad_6 (ZeroPadding2D)      (None, 29, 29, 256)  0           conv_pw_5_relu[0][0]             \n",
            "__________________________________________________________________________________________________\n",
            "conv_dw_6 (DepthwiseConv2D)     (None, 14, 14, 256)  2304        conv_pad_6[0][0]                 \n",
            "__________________________________________________________________________________________________\n",
            "conv_dw_6_bn (BatchNormalizatio (None, 14, 14, 256)  1024        conv_dw_6[0][0]                  \n",
            "__________________________________________________________________________________________________\n",
            "conv_dw_6_relu (ReLU)           (None, 14, 14, 256)  0           conv_dw_6_bn[0][0]               \n",
            "__________________________________________________________________________________________________\n",
            "conv_pw_6 (Conv2D)              (None, 14, 14, 512)  131072      conv_dw_6_relu[0][0]             \n",
            "__________________________________________________________________________________________________\n",
            "conv_pw_6_bn (BatchNormalizatio (None, 14, 14, 512)  2048        conv_pw_6[0][0]                  \n",
            "__________________________________________________________________________________________________\n",
            "conv_pw_6_relu (ReLU)           (None, 14, 14, 512)  0           conv_pw_6_bn[0][0]               \n",
            "__________________________________________________________________________________________________\n",
            "conv_dw_7 (DepthwiseConv2D)     (None, 14, 14, 512)  4608        conv_pw_6_relu[0][0]             \n",
            "__________________________________________________________________________________________________\n",
            "conv_dw_7_bn (BatchNormalizatio (None, 14, 14, 512)  2048        conv_dw_7[0][0]                  \n",
            "__________________________________________________________________________________________________\n",
            "conv_dw_7_relu (ReLU)           (None, 14, 14, 512)  0           conv_dw_7_bn[0][0]               \n",
            "__________________________________________________________________________________________________\n",
            "conv_pw_7 (Conv2D)              (None, 14, 14, 512)  262144      conv_dw_7_relu[0][0]             \n",
            "__________________________________________________________________________________________________\n",
            "conv_pw_7_bn (BatchNormalizatio (None, 14, 14, 512)  2048        conv_pw_7[0][0]                  \n",
            "__________________________________________________________________________________________________\n",
            "conv_pw_7_relu (ReLU)           (None, 14, 14, 512)  0           conv_pw_7_bn[0][0]               \n",
            "__________________________________________________________________________________________________\n",
            "conv_dw_8 (DepthwiseConv2D)     (None, 14, 14, 512)  4608        conv_pw_7_relu[0][0]             \n",
            "__________________________________________________________________________________________________\n",
            "conv_dw_8_bn (BatchNormalizatio (None, 14, 14, 512)  2048        conv_dw_8[0][0]                  \n",
            "__________________________________________________________________________________________________\n",
            "conv_dw_8_relu (ReLU)           (None, 14, 14, 512)  0           conv_dw_8_bn[0][0]               \n",
            "__________________________________________________________________________________________________\n",
            "conv_pw_8 (Conv2D)              (None, 14, 14, 512)  262144      conv_dw_8_relu[0][0]             \n",
            "__________________________________________________________________________________________________\n",
            "conv_pw_8_bn (BatchNormalizatio (None, 14, 14, 512)  2048        conv_pw_8[0][0]                  \n",
            "__________________________________________________________________________________________________\n",
            "conv_pw_8_relu (ReLU)           (None, 14, 14, 512)  0           conv_pw_8_bn[0][0]               \n",
            "__________________________________________________________________________________________________\n",
            "conv_dw_9 (DepthwiseConv2D)     (None, 14, 14, 512)  4608        conv_pw_8_relu[0][0]             \n",
            "__________________________________________________________________________________________________\n",
            "conv_dw_9_bn (BatchNormalizatio (None, 14, 14, 512)  2048        conv_dw_9[0][0]                  \n",
            "__________________________________________________________________________________________________\n",
            "conv_dw_9_relu (ReLU)           (None, 14, 14, 512)  0           conv_dw_9_bn[0][0]               \n",
            "__________________________________________________________________________________________________\n",
            "conv_pw_9 (Conv2D)              (None, 14, 14, 512)  262144      conv_dw_9_relu[0][0]             \n",
            "__________________________________________________________________________________________________\n",
            "conv_pw_9_bn (BatchNormalizatio (None, 14, 14, 512)  2048        conv_pw_9[0][0]                  \n",
            "__________________________________________________________________________________________________\n",
            "conv_pw_9_relu (ReLU)           (None, 14, 14, 512)  0           conv_pw_9_bn[0][0]               \n",
            "__________________________________________________________________________________________________\n",
            "conv_dw_10 (DepthwiseConv2D)    (None, 14, 14, 512)  4608        conv_pw_9_relu[0][0]             \n",
            "__________________________________________________________________________________________________\n",
            "conv_dw_10_bn (BatchNormalizati (None, 14, 14, 512)  2048        conv_dw_10[0][0]                 \n",
            "__________________________________________________________________________________________________\n",
            "conv_dw_10_relu (ReLU)          (None, 14, 14, 512)  0           conv_dw_10_bn[0][0]              \n",
            "__________________________________________________________________________________________________\n",
            "conv_pw_10 (Conv2D)             (None, 14, 14, 512)  262144      conv_dw_10_relu[0][0]            \n",
            "__________________________________________________________________________________________________\n",
            "conv_pw_10_bn (BatchNormalizati (None, 14, 14, 512)  2048        conv_pw_10[0][0]                 \n",
            "__________________________________________________________________________________________________\n",
            "conv_pw_10_relu (ReLU)          (None, 14, 14, 512)  0           conv_pw_10_bn[0][0]              \n",
            "__________________________________________________________________________________________________\n",
            "conv_dw_11 (DepthwiseConv2D)    (None, 14, 14, 512)  4608        conv_pw_10_relu[0][0]            \n",
            "__________________________________________________________________________________________________\n",
            "conv_dw_11_bn (BatchNormalizati (None, 14, 14, 512)  2048        conv_dw_11[0][0]                 \n",
            "__________________________________________________________________________________________________\n",
            "conv_dw_11_relu (ReLU)          (None, 14, 14, 512)  0           conv_dw_11_bn[0][0]              \n",
            "__________________________________________________________________________________________________\n",
            "conv_pw_11 (Conv2D)             (None, 14, 14, 512)  262144      conv_dw_11_relu[0][0]            \n",
            "__________________________________________________________________________________________________\n",
            "conv_pw_11_bn (BatchNormalizati (None, 14, 14, 512)  2048        conv_pw_11[0][0]                 \n",
            "__________________________________________________________________________________________________\n",
            "conv_pw_11_relu (ReLU)          (None, 14, 14, 512)  0           conv_pw_11_bn[0][0]              \n",
            "__________________________________________________________________________________________________\n",
            "conv_pad_12 (ZeroPadding2D)     (None, 15, 15, 512)  0           conv_pw_11_relu[0][0]            \n",
            "__________________________________________________________________________________________________\n",
            "conv_dw_12 (DepthwiseConv2D)    (None, 7, 7, 512)    4608        conv_pad_12[0][0]                \n",
            "__________________________________________________________________________________________________\n",
            "conv_dw_12_bn (BatchNormalizati (None, 7, 7, 512)    2048        conv_dw_12[0][0]                 \n",
            "__________________________________________________________________________________________________\n",
            "conv_dw_12_relu (ReLU)          (None, 7, 7, 512)    0           conv_dw_12_bn[0][0]              \n",
            "__________________________________________________________________________________________________\n",
            "conv_pw_12 (Conv2D)             (None, 7, 7, 1024)   524288      conv_dw_12_relu[0][0]            \n",
            "__________________________________________________________________________________________________\n",
            "conv_pw_12_bn (BatchNormalizati (None, 7, 7, 1024)   4096        conv_pw_12[0][0]                 \n",
            "__________________________________________________________________________________________________\n",
            "conv_pw_12_relu (ReLU)          (None, 7, 7, 1024)   0           conv_pw_12_bn[0][0]              \n",
            "__________________________________________________________________________________________________\n",
            "conv_dw_13 (DepthwiseConv2D)    (None, 7, 7, 1024)   9216        conv_pw_12_relu[0][0]            \n",
            "__________________________________________________________________________________________________\n",
            "conv_dw_13_bn (BatchNormalizati (None, 7, 7, 1024)   4096        conv_dw_13[0][0]                 \n",
            "__________________________________________________________________________________________________\n",
            "conv_dw_13_relu (ReLU)          (None, 7, 7, 1024)   0           conv_dw_13_bn[0][0]              \n",
            "__________________________________________________________________________________________________\n",
            "conv_pw_13 (Conv2D)             (None, 7, 7, 1024)   1048576     conv_dw_13_relu[0][0]            \n",
            "__________________________________________________________________________________________________\n",
            "conv_pw_13_bn (BatchNormalizati (None, 7, 7, 1024)   4096        conv_pw_13[0][0]                 \n",
            "__________________________________________________________________________________________________\n",
            "conv_pw_13_relu (ReLU)          (None, 7, 7, 1024)   0           conv_pw_13_bn[0][0]              \n",
            "__________________________________________________________________________________________________\n",
            "up_sampling2d (UpSampling2D)    (None, 14, 14, 1024) 0           conv_pw_13_relu[0][0]            \n",
            "__________________________________________________________________________________________________\n",
            "concatenate (Concatenate)       (None, 14, 14, 1536) 0           up_sampling2d[0][0]              \n",
            "                                                                 conv_pw_11_relu[0][0]            \n",
            "__________________________________________________________________________________________________\n",
            "up_sampling2d_1 (UpSampling2D)  (None, 28, 28, 1536) 0           concatenate[0][0]                \n",
            "__________________________________________________________________________________________________\n",
            "concatenate_1 (Concatenate)     (None, 28, 28, 1792) 0           up_sampling2d_1[0][0]            \n",
            "                                                                 conv_pw_5_relu[0][0]             \n",
            "__________________________________________________________________________________________________\n",
            "up_sampling2d_2 (UpSampling2D)  (None, 56, 56, 1792) 0           concatenate_1[0][0]              \n",
            "__________________________________________________________________________________________________\n",
            "concatenate_2 (Concatenate)     (None, 56, 56, 1920) 0           up_sampling2d_2[0][0]            \n",
            "                                                                 conv_dw_3_relu[0][0]             \n",
            "__________________________________________________________________________________________________\n",
            "up_sampling2d_3 (UpSampling2D)  (None, 112, 112, 192 0           concatenate_2[0][0]              \n",
            "__________________________________________________________________________________________________\n",
            "concatenate_3 (Concatenate)     (None, 112, 112, 195 0           up_sampling2d_3[0][0]            \n",
            "                                                                 conv_dw_1_relu[0][0]             \n",
            "__________________________________________________________________________________________________\n",
            "up_sampling2d_4 (UpSampling2D)  (None, 224, 224, 195 0           concatenate_3[0][0]              \n",
            "__________________________________________________________________________________________________\n",
            "concatenate_4 (Concatenate)     (None, 224, 224, 195 0           up_sampling2d_4[0][0]            \n",
            "                                                                 input_1[0][0]                    \n",
            "__________________________________________________________________________________________________\n",
            "conv2d (Conv2D)                 (None, 224, 224, 1)  1956        concatenate_4[0][0]              \n",
            "__________________________________________________________________________________________________\n",
            "reshape (Reshape)               (None, 224, 224)     0           conv2d[0][0]                     \n",
            "==================================================================================================\n",
            "Total params: 3,230,820\n",
            "Trainable params: 1,956\n",
            "Non-trainable params: 3,228,864\n",
            "__________________________________________________________________________________________________\n"
          ],
          "name": "stdout"
        }
      ]
    },
    {
      "cell_type": "markdown",
      "metadata": {
        "colab_type": "text",
        "id": "2spcE4TvfEZw"
      },
      "source": [
        "### Define dice coefficient function (5 marks)\n",
        "- Create a function to calculate dice coefficient\n"
      ]
    },
    {
      "cell_type": "code",
      "metadata": {
        "colab_type": "code",
        "id": "8H8aViXZuWz1",
        "outputId": "b7a81103-98df-47ea-952a-9bf4f68dd182",
        "colab": {
          "base_uri": "https://localhost:8080/",
          "height": 34
        }
      },
      "source": [
        "import tensorflow as tf\n",
        "\n",
        "from keras import backend as K\n",
        "\n",
        "def dice_coefficient(y_true, y_pred):\n",
        "    #### Add your code here ####\n",
        "    numerator = 2 * tf.reduce_sum(y_true * y_pred)\n",
        "    denominator = tf.reduce_sum(y_true + y_pred)\n",
        "    return numerator / (denominator + tf.keras.backend.epsilon()) #### Add your code here ####"
      ],
      "execution_count": 12,
      "outputs": [
        {
          "output_type": "stream",
          "text": [
            "Using TensorFlow backend.\n"
          ],
          "name": "stderr"
        }
      ]
    },
    {
      "cell_type": "markdown",
      "metadata": {
        "colab_type": "text",
        "id": "Nkp5SDM1fIu2"
      },
      "source": [
        "### Define loss"
      ]
    },
    {
      "cell_type": "code",
      "metadata": {
        "colab_type": "code",
        "id": "FEOVfs19KVLv",
        "colab": {}
      },
      "source": [
        "from tensorflow.keras.losses import binary_crossentropy\n",
        "from tensorflow.keras.backend import log, epsilon\n",
        "def loss(y_true, y_pred):\n",
        "    return binary_crossentropy(y_true, y_pred) - tf.log(dice_coefficient(y_true, y_pred) + tf.keras.backend.epsilon())"
      ],
      "execution_count": 0,
      "outputs": []
    },
    {
      "cell_type": "markdown",
      "metadata": {
        "colab_type": "text",
        "id": "Thltv_akfOMS"
      },
      "source": [
        "### Compile the model (2 marks)\n",
        "- Complie the model using below parameters\n",
        "  - loss: use the loss function defined above\n",
        "  - optimizers: use Adam optimizer\n",
        "  - metrics: use dice_coefficient function defined above"
      ]
    },
    {
      "cell_type": "code",
      "metadata": {
        "colab_type": "code",
        "id": "atPb8xm2qkK5",
        "colab": {}
      },
      "source": [
        "#### Add your code here ####\n",
        "from tensorflow.keras.optimizers import Adam\n",
        "\n",
        "optimizer = Adam(lr=1e-4, beta_1=0.9, beta_2=0.999, epsilon=None, decay=0.0, amsgrad=False)\n",
        "model.compile(loss=loss, optimizer=optimizer, metrics=[dice_coefficient])\n"
      ],
      "execution_count": 0,
      "outputs": []
    },
    {
      "cell_type": "markdown",
      "metadata": {
        "colab_type": "text",
        "id": "VTumZyg0fuVy"
      },
      "source": [
        "### Define checkpoint and earlystopping"
      ]
    },
    {
      "cell_type": "code",
      "metadata": {
        "colab_type": "code",
        "id": "QNlQHt8DMy7h",
        "outputId": "ecc4e0d7-0b77-4263-ffe1-d7dd860d3959",
        "colab": {
          "base_uri": "https://localhost:8080/",
          "height": 34
        }
      },
      "source": [
        "from tensorflow.keras.callbacks import ModelCheckpoint, EarlyStopping, ReduceLROnPlateau\n",
        "checkpoint = ModelCheckpoint(\"model-{loss:.2f}.h5\", monitor=\"loss\", verbose=1, save_best_only=True,\n",
        "                             save_weights_only=True, mode=\"min\", period=1)\n",
        "stop = EarlyStopping(monitor=\"loss\", patience=5, mode=\"min\")\n",
        "reduce_lr = ReduceLROnPlateau(monitor=\"loss\", factor=0.2, patience=5, min_lr=1e-6, verbose=1, mode=\"min\")"
      ],
      "execution_count": 15,
      "outputs": [
        {
          "output_type": "stream",
          "text": [
            "WARNING:tensorflow:`period` argument is deprecated. Please use `save_freq` to specify the frequency in number of samples seen.\n"
          ],
          "name": "stdout"
        }
      ]
    },
    {
      "cell_type": "markdown",
      "metadata": {
        "colab_type": "text",
        "id": "LxxbwvXEf07e"
      },
      "source": [
        "### Fit the model (2 marks)\n",
        "- Fit the model using below parameters\n",
        "  - epochs: you can decide\n",
        "  - batch_size: 1\n",
        "  - callbacks: checkpoint, reduce_lr, stop"
      ]
    },
    {
      "cell_type": "code",
      "metadata": {
        "colab_type": "code",
        "id": "guFfKsEmq58j",
        "outputId": "3320e044-e98f-4582-8d72-85df237a4582",
        "colab": {
          "base_uri": "https://localhost:8080/",
          "height": 1000
        }
      },
      "source": [
        "model.fit(x=X_train,y=masks, epochs=100, batch_size=1,callbacks=[checkpoint, reduce_lr, stop])"
      ],
      "execution_count": 16,
      "outputs": [
        {
          "output_type": "stream",
          "text": [
            "WARNING:tensorflow:From /usr/local/lib/python3.6/dist-packages/tensorflow_core/python/ops/math_grad.py:1424: where (from tensorflow.python.ops.array_ops) is deprecated and will be removed in a future version.\n",
            "Instructions for updating:\n",
            "Use tf.where in 2.0, which has the same broadcast rule as np.where\n",
            "Train on 409 samples\n",
            "Epoch 1/100\n",
            "407/409 [============================>.] - ETA: 0s - loss: 1.8966 - dice_coefficient: 0.2860\n",
            "Epoch 00001: loss improved from inf to 1.89623, saving model to model-1.90.h5\n",
            "409/409 [==============================] - 18s 44ms/sample - loss: 1.8962 - dice_coefficient: 0.2867\n",
            "Epoch 2/100\n",
            "407/409 [============================>.] - ETA: 0s - loss: 1.3981 - dice_coefficient: 0.3937\n",
            "Epoch 00002: loss improved from 1.89623 to 1.39647, saving model to model-1.40.h5\n",
            "409/409 [==============================] - 13s 33ms/sample - loss: 1.3965 - dice_coefficient: 0.3940\n",
            "Epoch 3/100\n",
            "407/409 [============================>.] - ETA: 0s - loss: 1.2600 - dice_coefficient: 0.4368\n",
            "Epoch 00003: loss improved from 1.39647 to 1.25880, saving model to model-1.26.h5\n",
            "409/409 [==============================] - 14s 33ms/sample - loss: 1.2588 - dice_coefficient: 0.4368\n",
            "Epoch 4/100\n",
            "407/409 [============================>.] - ETA: 0s - loss: 1.1958 - dice_coefficient: 0.4611\n",
            "Epoch 00004: loss improved from 1.25880 to 1.19409, saving model to model-1.19.h5\n",
            "409/409 [==============================] - 14s 33ms/sample - loss: 1.1941 - dice_coefficient: 0.4612\n",
            "Epoch 5/100\n",
            "407/409 [============================>.] - ETA: 0s - loss: 1.1559 - dice_coefficient: 0.4774\n",
            "Epoch 00005: loss improved from 1.19409 to 1.15648, saving model to model-1.16.h5\n",
            "409/409 [==============================] - 14s 34ms/sample - loss: 1.1565 - dice_coefficient: 0.4773\n",
            "Epoch 6/100\n",
            "407/409 [============================>.] - ETA: 0s - loss: 1.1129 - dice_coefficient: 0.4911\n",
            "Epoch 00006: loss improved from 1.15648 to 1.11231, saving model to model-1.11.h5\n",
            "409/409 [==============================] - 14s 33ms/sample - loss: 1.1123 - dice_coefficient: 0.4913\n",
            "Epoch 7/100\n",
            "407/409 [============================>.] - ETA: 0s - loss: 1.0948 - dice_coefficient: 0.4995\n",
            "Epoch 00007: loss improved from 1.11231 to 1.09548, saving model to model-1.10.h5\n",
            "409/409 [==============================] - 14s 33ms/sample - loss: 1.0955 - dice_coefficient: 0.4989\n",
            "Epoch 8/100\n",
            "407/409 [============================>.] - ETA: 0s - loss: 1.0723 - dice_coefficient: 0.5083\n",
            "Epoch 00008: loss improved from 1.09548 to 1.07130, saving model to model-1.07.h5\n",
            "409/409 [==============================] - 14s 34ms/sample - loss: 1.0713 - dice_coefficient: 0.5083\n",
            "Epoch 9/100\n",
            "407/409 [============================>.] - ETA: 0s - loss: 1.0553 - dice_coefficient: 0.5143\n",
            "Epoch 00009: loss improved from 1.07130 to 1.05327, saving model to model-1.05.h5\n",
            "409/409 [==============================] - 14s 34ms/sample - loss: 1.0533 - dice_coefficient: 0.5147\n",
            "Epoch 10/100\n",
            "407/409 [============================>.] - ETA: 0s - loss: 1.0354 - dice_coefficient: 0.5212\n",
            "Epoch 00010: loss improved from 1.05327 to 1.03489, saving model to model-1.03.h5\n",
            "409/409 [==============================] - 14s 34ms/sample - loss: 1.0349 - dice_coefficient: 0.5212\n",
            "Epoch 11/100\n",
            "407/409 [============================>.] - ETA: 0s - loss: 1.0225 - dice_coefficient: 0.5256\n",
            "Epoch 00011: loss improved from 1.03489 to 1.02194, saving model to model-1.02.h5\n",
            "409/409 [==============================] - 14s 34ms/sample - loss: 1.0219 - dice_coefficient: 0.5260\n",
            "Epoch 12/100\n",
            "407/409 [============================>.] - ETA: 0s - loss: 1.0117 - dice_coefficient: 0.5296\n",
            "Epoch 00012: loss improved from 1.02194 to 1.01212, saving model to model-1.01.h5\n",
            "409/409 [==============================] - 14s 34ms/sample - loss: 1.0121 - dice_coefficient: 0.5292\n",
            "Epoch 13/100\n",
            "407/409 [============================>.] - ETA: 0s - loss: 1.0011 - dice_coefficient: 0.5343\n",
            "Epoch 00013: loss improved from 1.01212 to 1.00265, saving model to model-1.00.h5\n",
            "409/409 [==============================] - 14s 33ms/sample - loss: 1.0027 - dice_coefficient: 0.5335\n",
            "Epoch 14/100\n",
            "407/409 [============================>.] - ETA: 0s - loss: 0.9945 - dice_coefficient: 0.5365\n",
            "Epoch 00014: loss improved from 1.00265 to 0.99316, saving model to model-0.99.h5\n",
            "409/409 [==============================] - 14s 35ms/sample - loss: 0.9932 - dice_coefficient: 0.5368\n",
            "Epoch 15/100\n",
            "407/409 [============================>.] - ETA: 0s - loss: 0.9852 - dice_coefficient: 0.5393\n",
            "Epoch 00015: loss improved from 0.99316 to 0.98531, saving model to model-0.99.h5\n",
            "409/409 [==============================] - 14s 34ms/sample - loss: 0.9853 - dice_coefficient: 0.5392\n",
            "Epoch 16/100\n",
            "407/409 [============================>.] - ETA: 0s - loss: 0.9774 - dice_coefficient: 0.5427\n",
            "Epoch 00016: loss improved from 0.98531 to 0.97782, saving model to model-0.98.h5\n",
            "409/409 [==============================] - 14s 34ms/sample - loss: 0.9778 - dice_coefficient: 0.5420\n",
            "Epoch 17/100\n",
            "407/409 [============================>.] - ETA: 0s - loss: 0.9679 - dice_coefficient: 0.5443\n",
            "Epoch 00017: loss improved from 0.97782 to 0.96839, saving model to model-0.97.h5\n",
            "409/409 [==============================] - 14s 34ms/sample - loss: 0.9684 - dice_coefficient: 0.5440\n",
            "Epoch 18/100\n",
            "407/409 [============================>.] - ETA: 0s - loss: 0.9629 - dice_coefficient: 0.5465\n",
            "Epoch 00018: loss improved from 0.96839 to 0.96159, saving model to model-0.96.h5\n",
            "409/409 [==============================] - 14s 34ms/sample - loss: 0.9616 - dice_coefficient: 0.5469\n",
            "Epoch 19/100\n",
            "407/409 [============================>.] - ETA: 0s - loss: 0.9620 - dice_coefficient: 0.5473\n",
            "Epoch 00019: loss improved from 0.96159 to 0.96015, saving model to model-0.96.h5\n",
            "409/409 [==============================] - 14s 34ms/sample - loss: 0.9602 - dice_coefficient: 0.5476\n",
            "Epoch 20/100\n",
            "407/409 [============================>.] - ETA: 0s - loss: 0.9514 - dice_coefficient: 0.5504\n",
            "Epoch 00020: loss improved from 0.96015 to 0.94967, saving model to model-0.95.h5\n",
            "409/409 [==============================] - 14s 34ms/sample - loss: 0.9497 - dice_coefficient: 0.5512\n",
            "Epoch 21/100\n",
            "407/409 [============================>.] - ETA: 0s - loss: 0.9466 - dice_coefficient: 0.5524\n",
            "Epoch 00021: loss improved from 0.94967 to 0.94534, saving model to model-0.95.h5\n",
            "409/409 [==============================] - 14s 34ms/sample - loss: 0.9453 - dice_coefficient: 0.5525\n",
            "Epoch 22/100\n",
            "407/409 [============================>.] - ETA: 0s - loss: 0.9408 - dice_coefficient: 0.5545\n",
            "Epoch 00022: loss improved from 0.94534 to 0.94115, saving model to model-0.94.h5\n",
            "409/409 [==============================] - 14s 34ms/sample - loss: 0.9411 - dice_coefficient: 0.5544\n",
            "Epoch 23/100\n",
            "407/409 [============================>.] - ETA: 0s - loss: 0.9335 - dice_coefficient: 0.5568\n",
            "Epoch 00023: loss improved from 0.94115 to 0.93430, saving model to model-0.93.h5\n",
            "409/409 [==============================] - 14s 34ms/sample - loss: 0.9343 - dice_coefficient: 0.5561\n",
            "Epoch 24/100\n",
            "407/409 [============================>.] - ETA: 0s - loss: 0.9328 - dice_coefficient: 0.5573\n",
            "Epoch 00024: loss improved from 0.93430 to 0.93423, saving model to model-0.93.h5\n",
            "409/409 [==============================] - 14s 34ms/sample - loss: 0.9342 - dice_coefficient: 0.5566\n",
            "Epoch 25/100\n",
            "407/409 [============================>.] - ETA: 0s - loss: 0.9274 - dice_coefficient: 0.5593\n",
            "Epoch 00025: loss improved from 0.93423 to 0.92733, saving model to model-0.93.h5\n",
            "409/409 [==============================] - 14s 34ms/sample - loss: 0.9273 - dice_coefficient: 0.5590\n",
            "Epoch 26/100\n",
            "407/409 [============================>.] - ETA: 0s - loss: 0.9220 - dice_coefficient: 0.5613\n",
            "Epoch 00026: loss improved from 0.92733 to 0.92121, saving model to model-0.92.h5\n",
            "409/409 [==============================] - 14s 34ms/sample - loss: 0.9212 - dice_coefficient: 0.5613\n",
            "Epoch 27/100\n",
            "407/409 [============================>.] - ETA: 0s - loss: 0.9218 - dice_coefficient: 0.5603\n",
            "Epoch 00027: loss improved from 0.92121 to 0.91919, saving model to model-0.92.h5\n",
            "409/409 [==============================] - 14s 34ms/sample - loss: 0.9192 - dice_coefficient: 0.5612\n",
            "Epoch 28/100\n",
            "407/409 [============================>.] - ETA: 0s - loss: 0.9175 - dice_coefficient: 0.5620\n",
            "Epoch 00028: loss improved from 0.91919 to 0.91683, saving model to model-0.92.h5\n",
            "409/409 [==============================] - 14s 34ms/sample - loss: 0.9168 - dice_coefficient: 0.5621\n",
            "Epoch 29/100\n",
            "407/409 [============================>.] - ETA: 0s - loss: 0.9192 - dice_coefficient: 0.5611\n",
            "Epoch 00029: loss did not improve from 0.91683\n",
            "409/409 [==============================] - 13s 33ms/sample - loss: 0.9183 - dice_coefficient: 0.5615\n",
            "Epoch 30/100\n",
            "407/409 [============================>.] - ETA: 0s - loss: 0.9157 - dice_coefficient: 0.5640\n",
            "Epoch 00030: loss improved from 0.91683 to 0.91560, saving model to model-0.92.h5\n",
            "409/409 [==============================] - 14s 34ms/sample - loss: 0.9156 - dice_coefficient: 0.5635\n",
            "Epoch 31/100\n",
            "407/409 [============================>.] - ETA: 0s - loss: 0.9140 - dice_coefficient: 0.5642\n",
            "Epoch 00031: loss improved from 0.91560 to 0.91177, saving model to model-0.91.h5\n",
            "409/409 [==============================] - 14s 34ms/sample - loss: 0.9118 - dice_coefficient: 0.5649\n",
            "Epoch 32/100\n",
            "407/409 [============================>.] - ETA: 0s - loss: 0.9093 - dice_coefficient: 0.5646\n",
            "Epoch 00032: loss improved from 0.91177 to 0.90822, saving model to model-0.91.h5\n",
            "409/409 [==============================] - 14s 34ms/sample - loss: 0.9082 - dice_coefficient: 0.5651\n",
            "Epoch 33/100\n",
            "407/409 [============================>.] - ETA: 0s - loss: 0.9050 - dice_coefficient: 0.5656\n",
            "Epoch 00033: loss improved from 0.90822 to 0.90328, saving model to model-0.90.h5\n",
            "409/409 [==============================] - 14s 35ms/sample - loss: 0.9033 - dice_coefficient: 0.5661\n",
            "Epoch 34/100\n",
            "407/409 [============================>.] - ETA: 0s - loss: 0.8989 - dice_coefficient: 0.5677\n",
            "Epoch 00034: loss improved from 0.90328 to 0.89982, saving model to model-0.90.h5\n",
            "409/409 [==============================] - 14s 34ms/sample - loss: 0.8998 - dice_coefficient: 0.5679\n",
            "Epoch 35/100\n",
            "407/409 [============================>.] - ETA: 0s - loss: 0.9020 - dice_coefficient: 0.5676\n",
            "Epoch 00035: loss improved from 0.89982 to 0.89981, saving model to model-0.90.h5\n",
            "409/409 [==============================] - 14s 34ms/sample - loss: 0.8998 - dice_coefficient: 0.5685\n",
            "Epoch 36/100\n",
            "407/409 [============================>.] - ETA: 0s - loss: 0.9009 - dice_coefficient: 0.5689\n",
            "Epoch 00036: loss improved from 0.89981 to 0.89960, saving model to model-0.90.h5\n",
            "409/409 [==============================] - 14s 34ms/sample - loss: 0.8996 - dice_coefficient: 0.5691\n",
            "Epoch 37/100\n",
            "407/409 [============================>.] - ETA: 0s - loss: 0.8956 - dice_coefficient: 0.5696\n",
            "Epoch 00037: loss improved from 0.89960 to 0.89535, saving model to model-0.90.h5\n",
            "409/409 [==============================] - 14s 34ms/sample - loss: 0.8954 - dice_coefficient: 0.5699\n",
            "Epoch 38/100\n",
            "407/409 [============================>.] - ETA: 0s - loss: 0.8929 - dice_coefficient: 0.5710\n",
            "Epoch 00038: loss improved from 0.89535 to 0.89364, saving model to model-0.89.h5\n",
            "409/409 [==============================] - 14s 35ms/sample - loss: 0.8936 - dice_coefficient: 0.5709\n",
            "Epoch 39/100\n",
            "407/409 [============================>.] - ETA: 0s - loss: 0.8859 - dice_coefficient: 0.5733\n",
            "Epoch 00039: loss improved from 0.89364 to 0.88809, saving model to model-0.89.h5\n",
            "409/409 [==============================] - 14s 34ms/sample - loss: 0.8881 - dice_coefficient: 0.5722\n",
            "Epoch 40/100\n",
            "407/409 [============================>.] - ETA: 0s - loss: 0.8909 - dice_coefficient: 0.5726\n",
            "Epoch 00040: loss did not improve from 0.88809\n",
            "409/409 [==============================] - 13s 33ms/sample - loss: 0.8904 - dice_coefficient: 0.5724\n",
            "Epoch 41/100\n",
            "407/409 [============================>.] - ETA: 0s - loss: 0.8889 - dice_coefficient: 0.5729\n",
            "Epoch 00041: loss did not improve from 0.88809\n",
            "409/409 [==============================] - 13s 33ms/sample - loss: 0.8889 - dice_coefficient: 0.5725\n",
            "Epoch 42/100\n",
            "407/409 [============================>.] - ETA: 0s - loss: 0.8855 - dice_coefficient: 0.5743\n",
            "Epoch 00042: loss improved from 0.88809 to 0.88489, saving model to model-0.88.h5\n",
            "409/409 [==============================] - 14s 35ms/sample - loss: 0.8849 - dice_coefficient: 0.5740\n",
            "Epoch 43/100\n",
            "407/409 [============================>.] - ETA: 0s - loss: 0.8900 - dice_coefficient: 0.5730\n",
            "Epoch 00043: loss did not improve from 0.88489\n",
            "409/409 [==============================] - 13s 33ms/sample - loss: 0.8886 - dice_coefficient: 0.5735\n",
            "Epoch 44/100\n",
            "407/409 [============================>.] - ETA: 0s - loss: 0.8835 - dice_coefficient: 0.5748\n",
            "Epoch 00044: loss improved from 0.88489 to 0.88231, saving model to model-0.88.h5\n",
            "409/409 [==============================] - 14s 34ms/sample - loss: 0.8823 - dice_coefficient: 0.5749\n",
            "Epoch 45/100\n",
            "407/409 [============================>.] - ETA: 0s - loss: 0.8846 - dice_coefficient: 0.5746\n",
            "Epoch 00045: loss did not improve from 0.88231\n",
            "409/409 [==============================] - 13s 33ms/sample - loss: 0.8845 - dice_coefficient: 0.5745\n",
            "Epoch 46/100\n",
            "407/409 [============================>.] - ETA: 0s - loss: 0.8845 - dice_coefficient: 0.5750\n",
            "Epoch 00046: loss did not improve from 0.88231\n",
            "409/409 [==============================] - 13s 33ms/sample - loss: 0.8843 - dice_coefficient: 0.5751\n",
            "Epoch 47/100\n",
            "407/409 [============================>.] - ETA: 0s - loss: 0.8793 - dice_coefficient: 0.5763\n",
            "Epoch 00047: loss improved from 0.88231 to 0.87976, saving model to model-0.88.h5\n",
            "409/409 [==============================] - 14s 34ms/sample - loss: 0.8798 - dice_coefficient: 0.5760\n",
            "Epoch 48/100\n",
            "407/409 [============================>.] - ETA: 0s - loss: 0.8789 - dice_coefficient: 0.5768\n",
            "Epoch 00048: loss improved from 0.87976 to 0.87770, saving model to model-0.88.h5\n",
            "409/409 [==============================] - 14s 34ms/sample - loss: 0.8777 - dice_coefficient: 0.5774\n",
            "Epoch 49/100\n",
            "407/409 [============================>.] - ETA: 0s - loss: 0.8842 - dice_coefficient: 0.5756\n",
            "Epoch 00049: loss did not improve from 0.87770\n",
            "409/409 [==============================] - 13s 33ms/sample - loss: 0.8829 - dice_coefficient: 0.5758\n",
            "Epoch 50/100\n",
            "407/409 [============================>.] - ETA: 0s - loss: 0.8778 - dice_coefficient: 0.5770\n",
            "Epoch 00050: loss improved from 0.87770 to 0.87635, saving model to model-0.88.h5\n",
            "409/409 [==============================] - 14s 34ms/sample - loss: 0.8764 - dice_coefficient: 0.5773\n",
            "Epoch 51/100\n",
            "407/409 [============================>.] - ETA: 0s - loss: 0.8790 - dice_coefficient: 0.5773\n",
            "Epoch 00051: loss did not improve from 0.87635\n",
            "409/409 [==============================] - 13s 33ms/sample - loss: 0.8783 - dice_coefficient: 0.5775\n",
            "Epoch 52/100\n",
            "407/409 [============================>.] - ETA: 0s - loss: 0.8715 - dice_coefficient: 0.5794\n",
            "Epoch 00052: loss improved from 0.87635 to 0.87118, saving model to model-0.87.h5\n",
            "409/409 [==============================] - 15s 36ms/sample - loss: 0.8712 - dice_coefficient: 0.5789\n",
            "Epoch 53/100\n",
            "407/409 [============================>.] - ETA: 0s - loss: 0.8717 - dice_coefficient: 0.5787\n",
            "Epoch 00053: loss did not improve from 0.87118\n",
            "409/409 [==============================] - 13s 33ms/sample - loss: 0.8756 - dice_coefficient: 0.5785\n",
            "Epoch 54/100\n",
            "407/409 [============================>.] - ETA: 0s - loss: 0.8732 - dice_coefficient: 0.5793\n",
            "Epoch 00054: loss did not improve from 0.87118\n",
            "409/409 [==============================] - 13s 33ms/sample - loss: 0.8737 - dice_coefficient: 0.5788\n",
            "Epoch 55/100\n",
            "407/409 [============================>.] - ETA: 0s - loss: 0.8746 - dice_coefficient: 0.5783\n",
            "Epoch 00055: loss did not improve from 0.87118\n",
            "409/409 [==============================] - 13s 33ms/sample - loss: 0.8736 - dice_coefficient: 0.5785\n",
            "Epoch 56/100\n",
            "407/409 [============================>.] - ETA: 0s - loss: 0.8742 - dice_coefficient: 0.5793\n",
            "Epoch 00056: loss did not improve from 0.87118\n",
            "409/409 [==============================] - 13s 33ms/sample - loss: 0.8737 - dice_coefficient: 0.5795\n",
            "Epoch 57/100\n",
            "407/409 [============================>.] - ETA: 0s - loss: 0.8710 - dice_coefficient: 0.5801\n",
            "Epoch 00057: loss improved from 0.87118 to 0.86902, saving model to model-0.87.h5\n",
            "409/409 [==============================] - 14s 34ms/sample - loss: 0.8690 - dice_coefficient: 0.5811\n",
            "Epoch 58/100\n",
            "407/409 [============================>.] - ETA: 0s - loss: 0.8725 - dice_coefficient: 0.5802\n",
            "Epoch 00058: loss did not improve from 0.86902\n",
            "409/409 [==============================] - 13s 33ms/sample - loss: 0.8719 - dice_coefficient: 0.5803\n",
            "Epoch 59/100\n",
            "407/409 [============================>.] - ETA: 0s - loss: 0.8678 - dice_coefficient: 0.5814\n",
            "Epoch 00059: loss improved from 0.86902 to 0.86691, saving model to model-0.87.h5\n",
            "409/409 [==============================] - 14s 34ms/sample - loss: 0.8669 - dice_coefficient: 0.5819\n",
            "Epoch 60/100\n",
            "407/409 [============================>.] - ETA: 0s - loss: 0.8647 - dice_coefficient: 0.5815\n",
            "Epoch 00060: loss improved from 0.86691 to 0.86356, saving model to model-0.86.h5\n",
            "409/409 [==============================] - 15s 36ms/sample - loss: 0.8636 - dice_coefficient: 0.5822\n",
            "Epoch 61/100\n",
            "407/409 [============================>.] - ETA: 0s - loss: 0.8682 - dice_coefficient: 0.5817\n",
            "Epoch 00061: loss did not improve from 0.86356\n",
            "409/409 [==============================] - 13s 33ms/sample - loss: 0.8682 - dice_coefficient: 0.5815\n",
            "Epoch 62/100\n",
            "407/409 [============================>.] - ETA: 0s - loss: 0.8655 - dice_coefficient: 0.5827\n",
            "Epoch 00062: loss did not improve from 0.86356\n",
            "409/409 [==============================] - 13s 33ms/sample - loss: 0.8654 - dice_coefficient: 0.5826\n",
            "Epoch 63/100\n",
            "407/409 [============================>.] - ETA: 0s - loss: 0.8690 - dice_coefficient: 0.5812\n",
            "Epoch 00063: loss did not improve from 0.86356\n",
            "409/409 [==============================] - 13s 33ms/sample - loss: 0.8681 - dice_coefficient: 0.5814\n",
            "Epoch 64/100\n",
            "407/409 [============================>.] - ETA: 0s - loss: 0.8669 - dice_coefficient: 0.5818\n",
            "Epoch 00064: loss did not improve from 0.86356\n",
            "409/409 [==============================] - 13s 33ms/sample - loss: 0.8665 - dice_coefficient: 0.5819\n",
            "Epoch 65/100\n",
            "407/409 [============================>.] - ETA: 0s - loss: 0.8641 - dice_coefficient: 0.5829\n",
            "Epoch 00065: loss improved from 0.86356 to 0.86320, saving model to model-0.86.h5\n",
            "409/409 [==============================] - 14s 34ms/sample - loss: 0.8632 - dice_coefficient: 0.5831\n",
            "Epoch 66/100\n",
            "407/409 [============================>.] - ETA: 0s - loss: 0.8626 - dice_coefficient: 0.5838\n",
            "Epoch 00066: loss improved from 0.86320 to 0.86185, saving model to model-0.86.h5\n",
            "409/409 [==============================] - 14s 35ms/sample - loss: 0.8618 - dice_coefficient: 0.5837\n",
            "Epoch 67/100\n",
            "407/409 [============================>.] - ETA: 0s - loss: 0.8653 - dice_coefficient: 0.5829\n",
            "Epoch 00067: loss did not improve from 0.86185\n",
            "409/409 [==============================] - 13s 33ms/sample - loss: 0.8646 - dice_coefficient: 0.5831\n",
            "Epoch 68/100\n",
            "407/409 [============================>.] - ETA: 0s - loss: 0.8589 - dice_coefficient: 0.5856\n",
            "Epoch 00068: loss improved from 0.86185 to 0.85736, saving model to model-0.86.h5\n",
            "409/409 [==============================] - 14s 35ms/sample - loss: 0.8574 - dice_coefficient: 0.5858\n",
            "Epoch 69/100\n",
            "407/409 [============================>.] - ETA: 0s - loss: 0.8599 - dice_coefficient: 0.5849\n",
            "Epoch 00069: loss did not improve from 0.85736\n",
            "409/409 [==============================] - 13s 33ms/sample - loss: 0.8589 - dice_coefficient: 0.5850\n",
            "Epoch 70/100\n",
            "407/409 [============================>.] - ETA: 0s - loss: 0.8611 - dice_coefficient: 0.5854\n",
            "Epoch 00070: loss did not improve from 0.85736\n",
            "409/409 [==============================] - 13s 33ms/sample - loss: 0.8615 - dice_coefficient: 0.5846\n",
            "Epoch 71/100\n",
            "407/409 [============================>.] - ETA: 0s - loss: 0.8576 - dice_coefficient: 0.5857\n",
            "Epoch 00071: loss improved from 0.85736 to 0.85562, saving model to model-0.86.h5\n",
            "409/409 [==============================] - 14s 34ms/sample - loss: 0.8556 - dice_coefficient: 0.5863\n",
            "Epoch 72/100\n",
            "407/409 [============================>.] - ETA: 0s - loss: 0.8598 - dice_coefficient: 0.5847\n",
            "Epoch 00072: loss did not improve from 0.85562\n",
            "409/409 [==============================] - 13s 33ms/sample - loss: 0.8589 - dice_coefficient: 0.5849\n",
            "Epoch 73/100\n",
            "407/409 [============================>.] - ETA: 0s - loss: 0.8565 - dice_coefficient: 0.5860\n",
            "Epoch 00073: loss did not improve from 0.85562\n",
            "409/409 [==============================] - 13s 33ms/sample - loss: 0.8560 - dice_coefficient: 0.5862\n",
            "Epoch 74/100\n",
            "407/409 [============================>.] - ETA: 0s - loss: 0.8553 - dice_coefficient: 0.5871\n",
            "Epoch 00074: loss improved from 0.85562 to 0.85547, saving model to model-0.86.h5\n",
            "409/409 [==============================] - 14s 34ms/sample - loss: 0.8555 - dice_coefficient: 0.5867\n",
            "Epoch 75/100\n",
            "407/409 [============================>.] - ETA: 0s - loss: 0.8599 - dice_coefficient: 0.5856\n",
            "Epoch 00075: loss did not improve from 0.85547\n",
            "409/409 [==============================] - 13s 33ms/sample - loss: 0.8583 - dice_coefficient: 0.5859\n",
            "Epoch 76/100\n",
            "407/409 [============================>.] - ETA: 0s - loss: 0.8622 - dice_coefficient: 0.5852\n",
            "Epoch 00076: loss did not improve from 0.85547\n",
            "409/409 [==============================] - 13s 33ms/sample - loss: 0.8611 - dice_coefficient: 0.5855\n",
            "Epoch 77/100\n",
            "407/409 [============================>.] - ETA: 0s - loss: 0.8520 - dice_coefficient: 0.5889\n",
            "Epoch 00077: loss improved from 0.85547 to 0.85288, saving model to model-0.85.h5\n",
            "409/409 [==============================] - 15s 36ms/sample - loss: 0.8529 - dice_coefficient: 0.5883\n",
            "Epoch 78/100\n",
            "407/409 [============================>.] - ETA: 0s - loss: 0.8544 - dice_coefficient: 0.5875\n",
            "Epoch 00078: loss did not improve from 0.85288\n",
            "409/409 [==============================] - 13s 33ms/sample - loss: 0.8541 - dice_coefficient: 0.5874\n",
            "Epoch 79/100\n",
            "407/409 [============================>.] - ETA: 0s - loss: 0.8540 - dice_coefficient: 0.5869\n",
            "Epoch 00079: loss did not improve from 0.85288\n",
            "409/409 [==============================] - 13s 33ms/sample - loss: 0.8593 - dice_coefficient: 0.5861\n",
            "Epoch 80/100\n",
            "407/409 [============================>.] - ETA: 0s - loss: 0.8560 - dice_coefficient: 0.5867\n",
            "Epoch 00080: loss did not improve from 0.85288\n",
            "409/409 [==============================] - 13s 33ms/sample - loss: 0.8551 - dice_coefficient: 0.5868\n",
            "Epoch 81/100\n",
            "407/409 [============================>.] - ETA: 0s - loss: 0.8557 - dice_coefficient: 0.5869\n",
            "Epoch 00081: loss did not improve from 0.85288\n",
            "409/409 [==============================] - 14s 33ms/sample - loss: 0.8544 - dice_coefficient: 0.5874\n",
            "Epoch 82/100\n",
            "407/409 [============================>.] - ETA: 0s - loss: 0.8515 - dice_coefficient: 0.5888\n",
            "Epoch 00082: loss improved from 0.85288 to 0.85167, saving model to model-0.85.h5\n",
            "409/409 [==============================] - 14s 35ms/sample - loss: 0.8517 - dice_coefficient: 0.5886\n",
            "Epoch 83/100\n",
            "407/409 [============================>.] - ETA: 0s - loss: 0.8514 - dice_coefficient: 0.5887\n",
            "Epoch 00083: loss did not improve from 0.85167\n",
            "409/409 [==============================] - 14s 33ms/sample - loss: 0.8519 - dice_coefficient: 0.5883\n",
            "Epoch 84/100\n",
            "407/409 [============================>.] - ETA: 0s - loss: 0.8507 - dice_coefficient: 0.5886\n",
            "Epoch 00084: loss improved from 0.85167 to 0.84889, saving model to model-0.85.h5\n",
            "409/409 [==============================] - 14s 35ms/sample - loss: 0.8489 - dice_coefficient: 0.5891\n",
            "Epoch 85/100\n",
            "407/409 [============================>.] - ETA: 0s - loss: 0.8533 - dice_coefficient: 0.5879\n",
            "Epoch 00085: loss did not improve from 0.84889\n",
            "409/409 [==============================] - 13s 33ms/sample - loss: 0.8540 - dice_coefficient: 0.5871\n",
            "Epoch 86/100\n",
            "407/409 [============================>.] - ETA: 0s - loss: 0.8531 - dice_coefficient: 0.5883\n",
            "Epoch 00086: loss did not improve from 0.84889\n",
            "409/409 [==============================] - 13s 33ms/sample - loss: 0.8512 - dice_coefficient: 0.5889\n",
            "Epoch 87/100\n",
            "407/409 [============================>.] - ETA: 0s - loss: 0.8516 - dice_coefficient: 0.5888\n",
            "Epoch 00087: loss did not improve from 0.84889\n",
            "409/409 [==============================] - 13s 33ms/sample - loss: 0.8509 - dice_coefficient: 0.5886\n",
            "Epoch 88/100\n",
            "407/409 [============================>.] - ETA: 0s - loss: 0.8489 - dice_coefficient: 0.5890\n",
            "Epoch 00088: loss improved from 0.84889 to 0.84816, saving model to model-0.85.h5\n",
            "409/409 [==============================] - 14s 34ms/sample - loss: 0.8482 - dice_coefficient: 0.5895\n",
            "Epoch 89/100\n",
            "407/409 [============================>.] - ETA: 0s - loss: 0.8501 - dice_coefficient: 0.5900\n",
            "Epoch 00089: loss did not improve from 0.84816\n",
            "409/409 [==============================] - 13s 33ms/sample - loss: 0.8502 - dice_coefficient: 0.5898\n",
            "Epoch 90/100\n",
            "407/409 [============================>.] - ETA: 0s - loss: 0.8516 - dice_coefficient: 0.5892\n",
            "Epoch 00090: loss did not improve from 0.84816\n",
            "409/409 [==============================] - 13s 33ms/sample - loss: 0.8510 - dice_coefficient: 0.5890\n",
            "Epoch 91/100\n",
            "407/409 [============================>.] - ETA: 0s - loss: 0.8470 - dice_coefficient: 0.5905\n",
            "Epoch 00091: loss improved from 0.84816 to 0.84697, saving model to model-0.85.h5\n",
            "409/409 [==============================] - 14s 34ms/sample - loss: 0.8470 - dice_coefficient: 0.5901\n",
            "Epoch 92/100\n",
            "407/409 [============================>.] - ETA: 0s - loss: 0.8518 - dice_coefficient: 0.5891\n",
            "Epoch 00092: loss did not improve from 0.84697\n",
            "409/409 [==============================] - 13s 33ms/sample - loss: 0.8510 - dice_coefficient: 0.5893\n",
            "Epoch 93/100\n",
            "407/409 [============================>.] - ETA: 0s - loss: 0.8512 - dice_coefficient: 0.5885\n",
            "Epoch 00093: loss did not improve from 0.84697\n",
            "409/409 [==============================] - 13s 33ms/sample - loss: 0.8505 - dice_coefficient: 0.5889\n",
            "Epoch 94/100\n",
            "407/409 [============================>.] - ETA: 0s - loss: 0.8507 - dice_coefficient: 0.5894\n",
            "Epoch 00094: loss did not improve from 0.84697\n",
            "409/409 [==============================] - 13s 33ms/sample - loss: 0.8499 - dice_coefficient: 0.5899\n",
            "Epoch 95/100\n",
            "407/409 [============================>.] - ETA: 0s - loss: 0.8496 - dice_coefficient: 0.5897\n",
            "Epoch 00095: loss did not improve from 0.84697\n",
            "409/409 [==============================] - 13s 33ms/sample - loss: 0.8488 - dice_coefficient: 0.5899\n",
            "Epoch 96/100\n",
            "407/409 [============================>.] - ETA: 0s - loss: 0.8473 - dice_coefficient: 0.5910\n",
            "Epoch 00096: loss improved from 0.84697 to 0.84634, saving model to model-0.85.h5\n",
            "409/409 [==============================] - 14s 34ms/sample - loss: 0.8463 - dice_coefficient: 0.5914\n",
            "Epoch 97/100\n",
            "407/409 [============================>.] - ETA: 0s - loss: 0.8504 - dice_coefficient: 0.5902\n",
            "Epoch 00097: loss did not improve from 0.84634\n",
            "409/409 [==============================] - 13s 33ms/sample - loss: 0.8506 - dice_coefficient: 0.5900\n",
            "Epoch 98/100\n",
            "407/409 [============================>.] - ETA: 0s - loss: 0.8443 - dice_coefficient: 0.5906\n",
            "Epoch 00098: loss improved from 0.84634 to 0.84389, saving model to model-0.84.h5\n",
            "409/409 [==============================] - 14s 33ms/sample - loss: 0.8439 - dice_coefficient: 0.5908\n",
            "Epoch 99/100\n",
            "407/409 [============================>.] - ETA: 0s - loss: 0.8451 - dice_coefficient: 0.5913\n",
            "Epoch 00099: loss did not improve from 0.84389\n",
            "409/409 [==============================] - 13s 33ms/sample - loss: 0.8483 - dice_coefficient: 0.5908\n",
            "Epoch 100/100\n",
            "407/409 [============================>.] - ETA: 0s - loss: 0.8451 - dice_coefficient: 0.5912\n",
            "Epoch 00100: loss did not improve from 0.84389\n",
            "409/409 [==============================] - 13s 32ms/sample - loss: 0.8448 - dice_coefficient: 0.5914\n"
          ],
          "name": "stdout"
        },
        {
          "output_type": "execute_result",
          "data": {
            "text/plain": [
              "<tensorflow.python.keras.callbacks.History at 0x7f8843f89be0>"
            ]
          },
          "metadata": {
            "tags": []
          },
          "execution_count": 16
        }
      ]
    },
    {
      "cell_type": "markdown",
      "metadata": {
        "colab_type": "text",
        "id": "5VtnuzlOf4uL"
      },
      "source": [
        "### Get the predicted mask for a sample image   (3 marks)"
      ]
    },
    {
      "cell_type": "code",
      "metadata": {
        "colab_type": "code",
        "id": "o-CBCMysrchu",
        "outputId": "7fb64001-f6b4-4fc9-bb43-4458febd85b2",
        "colab": {
          "base_uri": "https://localhost:8080/",
          "height": 286
        }
      },
      "source": [
        "\n",
        "sample_image = X_train[n]\n",
        "#### Add your code here ####\n",
        "\n",
        "import cv2\n",
        "pred_mask = cv2.resize(1*(model.predict(x=np.array([sample_image]))[0]>0.5), (IMAGE_WIDTH,IMAGE_HEIGHT) )\n",
        "pyplot.imshow(pred_mask)\n"
      ],
      "execution_count": 17,
      "outputs": [
        {
          "output_type": "execute_result",
          "data": {
            "text/plain": [
              "<matplotlib.image.AxesImage at 0x7f8846784e80>"
            ]
          },
          "metadata": {
            "tags": []
          },
          "execution_count": 17
        },
        {
          "output_type": "display_data",
          "data": {
            "image/png": "iVBORw0KGgoAAAANSUhEUgAAAQEAAAD8CAYAAAB3lxGOAAAABHNCSVQICAgIfAhkiAAAAAlwSFlz\nAAALEgAACxIB0t1+/AAAADh0RVh0U29mdHdhcmUAbWF0cGxvdGxpYiB2ZXJzaW9uMy4xLjIsIGh0\ndHA6Ly9tYXRwbG90bGliLm9yZy8li6FKAAAQZElEQVR4nO3df4wc5X3H8fenxhgFiLADtcA4tY2c\nSFC1h2MRpABNSxODVdVQVdSoAidFNUgggZSqNSC1qFIkmgaQUFsiIyxMRfjRGIL/cGocCwVFKgRD\nLgZjDDYxwoexA0SAQkTAfPvHPAfj9R23tzNzs3vP5yVZN/vM7O13tb7PPfPj5quIwMzy9XttF2Bm\n7XIImGXOIWCWOYeAWeYcAmaZcwiYZa6xEJB0gaRdknZLWtPU65hZNWriOgFJM4AXga8B+4CngEsj\n4vnaX8zMKmlqJnAWsDsiXo6I3wH3Aysaei0zq+Cohr7vPODV0uN9wJfH2/hozYpjOLahUswM4F1+\n/UZEnNQ53lQITEjSamA1wDF8hi/r/LZKMcvCj+MHr4w13tTuwAgwv/T41DT2sYhYGxFLI2LpTGY1\nVIaZTaSpEHgKWCxpoaSjgZXAxoZey8wqaGR3ICI+lHQNsBmYAayLiB1NvJaZVdPYMYGI2ARsaur7\nm1k9fMWgWeYcAmaZcwiYZc4hYJY5h4BZ5hwCZplzCJhlziFgljmHgFnmHAJmmXMImGXOIWCWOYeA\nWeYcAmaZcwiYZa7nEJA0X9Jjkp6XtEPStWn8JkkjkobTv+X1lWtmdatyU5EPgW9FxDOSjgeelrQl\nrbstIr5bvTwza1rPIRAR+4H9afldSTspbjVuZgOklmMCkhYAZwJPpqFrJG2XtE7S7Dpew8yaUTkE\nJB0HbACui4h3gDuA04AhipnCLeM8b7WkbZK2fcD7Vcswsx5VCgFJMykC4N6IeAggIg5ExKGI+Ai4\nk6Il2RHcd8CsP1Q5OyDgLmBnRNxaGj+5tNnFwHO9l2dmTatyduArwGXAs5KG09gNwKWShoAA9gJX\nVqrQzBpV5ezATwGNscq9BswGiK8YNMtca12JbbBtfm144o16tOyUoUZee6LvmyvPBMwy5xCwvrHs\nlKFGf1s3OXsZZA4Bs8z5mIC1bqr21X1MYGyeCZhlziFgljmHgFnmfEzAWuH98/7hmYBZ5hwCZplz\nCJhlziFgrdj82vCUX8HXxmsOAoeAWeYcAmaZq3yKUNJe4F3gEPBhRCyVNAd4AFhAcXehSyLi11Vf\ny8zqV9d1An8aEW+UHq8BtkbEzZLWpMf/VNNr2TTiffT2NbU7sAJYn5bXAxc19DpmVlEdIRDAo5Ke\nlrQ6jc1NHYoAXgfmdj7JfQfM+kMduwPnRMSIpN8Htkh6obwyIkJSdD4pItYCawE+qzlHrDezqVF5\nJhARI+nrQeBhimYjB0b7D6SvB6u+jvWXpu8CZFOnageiY1NHYiQdC3ydotnIRmBV2mwV8EiV1zGz\n5lTdHZgLPFw0I+Io4PsR8b+SngIelHQF8ApwScXXMbOGVAqBiHgZ+OMxxt8Ezq/yva2/DfKpvU+r\nPcddHF8xaFnL8Ye+k0PAsjbIM5q6OATMMucQsJ5Mx1OE0+39dMshYJY5h4D1bPNrw9NyRpAbh4BZ\n5nzLcRtTt0fNp9PR9W7ey3Sc9XgmYJY5h4BZ5hwCZplzCJhlziFgljmHgFnmHAJmmev5OgFJX6To\nLTBqEfDPwAnA3wO/SuM3RMSmnis0s0b1HAIRsQsYApA0AxihuMfgN4HbIuK7tVRoZo2qa3fgfGBP\nRLxS0/czsylSVwisBO4rPb5G0nZJ6yTNruk1zKwBlUNA0tHAXwL/k4buAE6j2FXYD9wyzvPcfMSs\nD9QxE7gQeCYiDgBExIGIOBQRHwF3UvQhOEJErI2IpRGxdCazaijDzHpRRwhcSmlXYLTpSHIxRR8C\nM+tTlf6UODUc+RpwZWn4O5KGKHoU7u1YZ2Z9pmrfgd8An+sYu6xSRWY2pXzFoFnmHAJmmXMImGXO\nIWCWOYeAWeYcAmaZcwiYZc4hYJY5h4BZ5hwCZplzCJhlziFgljmHgFnmHAJmmXNrchvTRC24p1NL\n8tx1NRNINww9KOm50tgcSVskvZS+zk7jknS7pN3pZqNLmirezKrrdnfgbuCCjrE1wNaIWAxsTY+h\nuOfg4vRvNcWNR82sT3UVAhHxOPBWx/AKYH1aXg9cVBq/JwpPACd03HfQzPpIlQODcyNif1p+HZib\nlucBr5a225fGzKwP1XJ2ICKC4saiXXPfAbP+UCUEDoxO89PXg2l8BJhf2u7UNHYY9x0w6w9VQmAj\nsCotrwIeKY1fns4SnA28XdptMLM+09V1ApLuA74KnChpH/AvwM3Ag5KuAF4BLkmbbwKWA7uB9yi6\nFJtZn+oqBCLi0nFWnT/GtgFcXaUoM5s6vmzYLHMOAbPMOQTMMucQMMucQ8Ascw4Bs8w5BMwy5xAw\ny5xDwCxzDgGzzDkEzDLnEDDLnEPAPtXm14Z9Z+FpziFgXXEQTF8OAevKRH0IbHA5BMwyN2EIjNN4\n5N8lvZCaizws6YQ0vkDSbyUNp3/fa7J4M6uum5nA3RzZeGQL8IcR8UfAi8D1pXV7ImIo/buqnjLN\nrCkT3l4sIh6XtKBj7NHSwyeAv663LOsXPhYw/dVxTODvgB+VHi+U9HNJP5F07nhPct8Bs/5QqSux\npBuBD4F709B+4PMR8aakLwE/lHRGRLzT+dyIWAusBfis5kyqcYk1Z/RUoGcA+eh5JiDpG8BfAH+b\n7jBMRLwfEW+m5aeBPcAXaqjTzBrS00xA0gXAPwJ/EhHvlcZPAt6KiEOSFlF0Jn65lkptSnQ7A5ho\nu/EuLhp9Xr9efJTjDGjCEBin8cj1wCxgiySAJ9KZgPOAf5X0AfARcFVEdHYzNrM+0s3ZgbEaj9w1\nzrYbgA1Vi7LBt+yUob79bW+H8xWD1pgcp9aDyCFgljmHgFnmHALWKO8S9L9KFwuZjWe8g4L9eLAw\n96DyTMAscw4Ba8SyU4ay/w07KBwCZpnzMQHLkmcpn/BMwCxznglYozp/4/bj2YHceSZgljnPBGxK\nTcWfEvf6Z8658kzAsuODgodzCJhlrte+AzdJGin1F1heWne9pN2Sdkla1lThZlaPXvsOANxW6i+w\nCUDS6cBK4Iz0nP+SNKOuYs2sfhOGQEQ8DnR7i7AVwP3phqO/BHYDZ1Woz8waVuWYwDWpDdk6SbPT\n2Dzg1dI2+9LYEdx3wKw/9BoCdwCnAUMUvQZumew3iIi1EbE0IpbOZFaPZZhZVT2FQEQciIhDEfER\ncCefTPlHgPmlTU9NY2aHGf0rw6k4XefrAj5dTyEg6eTSw4uB0TMHG4GVkmZJWkjRd+Bn1Uo0m7zy\nD76vC/h0vfYd+KqkISCAvcCVABGxQ9KDwPMU7cmujohDzZRu00UTVxH6B797tfYdSNt/G/h2laLM\nbOr4ikHrG74bUTscAmaZcwhYT3zEffpwCFjPHATTg+8nMMCq/BBW3fduct/dxwWmlmcCZplzCGRu\n82vDntZnziFgljkfExhAvrLO6uSZgFnmHAJmmfPuwAAq/8GNp/NWlWcCA85H9q0qh4BZ5hwCZpnr\nte/AA6WeA3slDafxBZJ+W1r3vSaLt8ON7hr4AiCbjG4ODN4N/Adwz+hARPzN6LKkW4C3S9vviQgf\nrZpC5QOE/uG3yermzkKPS1ow1jpJAi4B/qzesmwyfIbAqqh6TOBc4EBEvFQaWyjp55J+Iuncit/f\nuuDf/lZF1esELgXuKz3eD3w+It6U9CXgh5LOiIh3Op8oaTWwGuAYPlOxjDx1zgCanBF8WtB4JjLY\nep4JSDoK+CvggdGx1H7szbT8NLAH+MJYz3fzkenBATD4qswE/hx4ISL2jQ5IOgl4KyIOSVpE0Xfg\n5Yo1Wou8qzH9dXOK8D7g/4AvSton6Yq0aiWH7woAnAdsT6cMfwBcFRHdNjM1sxb02neAiPjGGGMb\ngA3VyzKzqeIrBs0y578itDFNdCzABwSnD88EzDLnEDDLnEPALHMOAeuajwNMTw4B65ovHJqeHAL2\nsW5+yN0+fPpxCJhlziFgH/Nv+Dw5BMwy5ysGbUyeFeTDMwGzzDkEzDLnEDDLXDc3FZkv6TFJz0va\nIenaND5H0hZJL6Wvs9O4JN0uabek7ZKWNP0mzKx33cwEPgS+FRGnA2cDV0s6HVgDbI2IxcDW9Bjg\nQorbii2muJHoHbVXbWa1mTAEImJ/RDyTlt8FdgLzgBXA+rTZeuCitLwCuCcKTwAnSDq59srNrBaT\nOiaQmpCcCTwJzI2I/WnV68DctDwPeLX0tH1pzMz6UNchIOk4ivsHXtfZRyAiAojJvLCk1ZK2Sdr2\nAe9P5qlmVqOuQkDSTIoAuDciHkrDB0an+enrwTQ+AswvPf3UNHYY9x0w6w/dnB0QcBewMyJuLa3a\nCKxKy6uAR0rjl6ezBGcDb5d2G8ysz3Rz2fBXgMuAZ0dbkAM3ADcDD6Y+BK9QNCYF2AQsB3YD7wHf\nrLViM6tVN30HfgponNXnj7F9AFdXrMvMpoivGDTLnEPALHP+U+IB5gYhVgfPBMwy5xAwy5xDwCxz\nDgGzzDkEzDLnEDDLnEPALHO+TmCA+ToAq4NnAmaZcwiYZc4hYJY5h4BZ5hwCZplzCJhlziFgljkV\ndwNruQjpV8BvgDfarqWCExns+mHw38Og1w/Nvoc/iIiTOgf7IgQAJG2LiKVt19GrQa8fBv89DHr9\n0M578O6AWeYcAmaZ66cQWNt2ARUNev0w+O9h0OuHFt5D3xwTMLN29NNMwMxa0HoISLpA0i5JuyWt\nabuebknaK+lZScOStqWxOZK2SHopfZ3ddp1lktZJOijpudLYmDWnXpK3p89lu6Ql7VX+ca1j1X+T\npJH0OQxLWl5ad32qf5ekZe1U/QlJ8yU9Jul5STskXZvG2/0MIqK1f8AMYA+wCDga+AVweps1TaL2\nvcCJHWPfAdak5TXAv7VdZ0d95wFLgOcmqpmin+SPKFrQnQ082af13wT8wxjbnp7+P80CFqb/ZzNa\nrv9kYElaPh54MdXZ6mfQ9kzgLGB3RLwcEb8D7gdWtFxTFSuA9Wl5PXBRi7UcISIeB97qGB6v5hXA\nPVF4AjhhtBV9W8apfzwrgPsj4v2I+CVFg9yzGiuuCxGxPyKeScvvAjuBebT8GbQdAvOAV0uP96Wx\nQRDAo5KelrQ6jc2NT9qwvw7Mbae0SRmv5kH6bK5J0+V1pV2wvq5f0gLgTOBJWv4M2g6BQXZORCwB\nLgSulnReeWUU87mBOvUyiDUDdwCnAUPAfuCWdsuZmKTjgA3AdRHxTnldG59B2yEwAswvPT41jfW9\niBhJXw8CD1NMNQ+MTtfS14PtVdi18WoeiM8mIg5ExKGI+Ai4k0+m/H1Zv6SZFAFwb0Q8lIZb/Qza\nDoGngMWSFko6GlgJbGy5pglJOlbS8aPLwNeB5yhqX5U2WwU80k6FkzJezRuBy9MR6rOBt0tT1r7R\nsY98McXnAEX9KyXNkrQQWAz8bKrrK5Mk4C5gZ0TcWlrV7mfQ5tHS0hHQFymO3t7Ydj1d1ryI4sjz\nL4Ado3UDnwO2Ai8BPwbmtF1rR933UUyZP6DYv7xivJopjkj/Z/pcngWW9mn9/53q255+aE4ubX9j\nqn8XcGEf1H8OxVR/OzCc/i1v+zPwFYNmmWt7d8DMWuYQMMucQ8Ascw4Bs8w5BMwy5xAwy5xDwCxz\nDgGzzP0/llfYiYidtc4AAAAASUVORK5CYII=\n",
            "text/plain": [
              "<Figure size 432x288 with 1 Axes>"
            ]
          },
          "metadata": {
            "tags": []
          }
        }
      ]
    },
    {
      "cell_type": "markdown",
      "metadata": {
        "colab_type": "text",
        "id": "fDIetz0HgA4R"
      },
      "source": [
        "### Impose the mask on the image (3 marks)"
      ]
    },
    {
      "cell_type": "code",
      "metadata": {
        "colab_type": "code",
        "id": "MTAHGkb5xdzu",
        "outputId": "b1a4a395-4f2f-4909-f1f1-aa849efba766",
        "colab": {
          "base_uri": "https://localhost:8080/",
          "height": 302
        }
      },
      "source": [
        "#### Add your code here ####\n",
        "THRESHOLD = 0.8\n",
        "EPSILON = 0.02\n",
        "\n",
        "region = model.predict(x=np.array([sample_image]))[0]\n",
        "\n",
        "output = np.zeros(sample_image.shape[:2], dtype=np.uint8)\n",
        "#Collect the bounding boxes\n",
        "for i in range(region.shape[1]):\n",
        "    for j in range(region.shape[0]):\n",
        "        if region[i][j] > THRESHOLD:\n",
        "            x = j\n",
        "            y = i\n",
        "            x2 = j + 1\n",
        "            y2 = i + 1\n",
        "            output[y:y2,x:x2] = 1\n",
        "\n",
        "output_image = sample_image\n",
        "#Draw the bounding boxes on the sample or test image\n",
        "contours, _ = cv2.findContours(output, cv2.RETR_TREE, cv2.CHAIN_APPROX_SIMPLE)\n",
        "for cnt in contours:\n",
        "    approx = cv2.approxPolyDP(cnt, EPSILON * cv2.arcLength(cnt, True), True)\n",
        "    x, y, w, h = cv2.boundingRect(approx)\n",
        "    cv2.rectangle(output_image, (x, y), (x + w, y + h), (225, 0, 0), 1)\n",
        "\n",
        "#Display the sample image with bounding boxes\n",
        "pyplot.imshow(output_image)\n",
        "\n"
      ],
      "execution_count": 19,
      "outputs": [
        {
          "output_type": "stream",
          "text": [
            "Clipping input data to the valid range for imshow with RGB data ([0..1] for floats or [0..255] for integers).\n"
          ],
          "name": "stderr"
        },
        {
          "output_type": "execute_result",
          "data": {
            "text/plain": [
              "<matplotlib.image.AxesImage at 0x7f862b32d9b0>"
            ]
          },
          "metadata": {
            "tags": []
          },
          "execution_count": 19
        },
        {
          "output_type": "display_data",
          "data": {
            "image/png": "iVBORw0KGgoAAAANSUhEUgAAAQEAAAD8CAYAAAB3lxGOAAAABHNCSVQICAgIfAhkiAAAAAlwSFlz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\nAAAASUVORK5CYII=\n",
            "text/plain": [
              "<Figure size 432x288 with 1 Axes>"
            ]
          },
          "metadata": {
            "tags": []
          }
        }
      ]
    }
  ]
}
